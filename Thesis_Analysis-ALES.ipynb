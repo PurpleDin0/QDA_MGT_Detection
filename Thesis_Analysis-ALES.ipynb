{
 "cells": [
  {
   "cell_type": "markdown",
   "metadata": {
    "colab_type": "text",
    "id": "ONWiNCXGOB1Y"
   },
   "source": [
    "## Perform Quantatative Discursive Analysis on ##"
   ]
  },
  {
   "cell_type": "markdown",
   "metadata": {
    "colab_type": "text",
    "id": "vRrmI0MwOFCo"
   },
   "source": [
    "##First load all the relevant libraries\n",
    "---\n",
    "- [Quantitative-Discursive-Analysis](https://github.com/metalcorebear/Quantitative-Discursive-Analysis) (v0.0.1): This is a library by [@metalcorebear](https://github.com/metalcorebear) that simplifies the creation of discursive objects and performing resonance analysis of those objects to each other.  I am importing a forked version of his code which includes minor changes.  Additionally, this code also requires several other packages in order to run succesfully.\n",
    "  -  [numpy]() (v ):\n",
    "  -  [networkx]() (v2.3):\n",
    "  -  [textblob]() (v):\n",
    "- [pandas](https://pandas.pydata.org/): used to read in CSV data, do basic data cleaning, and store all our data.  This is a heavy hitter of Python for Data Science.\n",
    "- [plot.ly](https://plot.ly/python/getting-started/): express is used for simple graphs and graph_objects is used for more complicated graphs.  \n",
    " - NOTE: prior to [version 4.0](https://medium.com/plotly/plotly-py-4-0-is-here-offline-only-express-first-displayable-anywhere-fc444e5659ee) of plot.ly it defaulted to an online mode that was widely despised, but v4.0 fixes this issue.  \n",
    "\n",
    "The below code also returns the versions of some of the modules, to help with documentation/academic paper writing."
   ]
  },
  {
   "cell_type": "code",
   "execution_count": 1,
   "metadata": {
    "colab": {
     "base_uri": "https://localhost:8080/",
     "height": 391
    },
    "colab_type": "code",
    "executionInfo": {
     "elapsed": 9466,
     "status": "ok",
     "timestamp": 1591286791608,
     "user": {
      "displayName": "Barney Ales",
      "photoUrl": "https://lh3.googleusercontent.com/a-/AOh14Gg86EIDEUXFuwIBLZfymbGYfGk1mnezArvKefKW=s64",
      "userId": "06512472277656029571"
     },
     "user_tz": 240
    },
    "id": "KzUT-zimNvPB",
    "outputId": "05c0fd93-9fed-4b00-afea-867f1b8e623b"
   },
   "outputs": [
    {
     "name": "stdout",
     "output_type": "stream",
     "text": [
      "Cloning into 'Quantitative-Discursive-Analysis'...\n",
      "remote: Enumerating objects: 20, done.\u001b[K\n",
      "remote: Counting objects: 100% (20/20), done.\u001b[K\n",
      "remote: Compressing objects: 100% (19/19), done.\u001b[K\n",
      "remote: Total 20 (delta 6), reused 0 (delta 0), pack-reused 0\u001b[K\n",
      "Unpacking objects: 100% (20/20), done.\n",
      "\u001b[31mERROR: Could not open requirements file: [Errno 2] No such file or directory: 'requirements.txt'\u001b[0m\n",
      "/content/Quantitative-Discursive-Analysis\n",
      "Pandas imported as Version:  1.0.4\n",
      "[nltk_data] Downloading package brown to /root/nltk_data...\n",
      "[nltk_data]   Unzipping corpora/brown.zip.\n",
      "[nltk_data] Downloading package punkt to /root/nltk_data...\n",
      "[nltk_data]   Unzipping tokenizers/punkt.zip.\n",
      "[nltk_data] Downloading package wordnet to /root/nltk_data...\n",
      "[nltk_data]   Unzipping corpora/wordnet.zip.\n",
      "[nltk_data] Downloading package averaged_perceptron_tagger to\n",
      "[nltk_data]     /root/nltk_data...\n",
      "[nltk_data]   Unzipping taggers/averaged_perceptron_tagger.zip.\n",
      "[nltk_data] Downloading package conll2000 to /root/nltk_data...\n",
      "[nltk_data]   Unzipping corpora/conll2000.zip.\n",
      "[nltk_data] Downloading package movie_reviews to /root/nltk_data...\n",
      "[nltk_data]   Unzipping corpora/movie_reviews.zip.\n",
      "Finished.\n"
     ]
    }
   ],
   "source": [
    "# Import the fork of @metalcorebear's Quantitative-Discursive-Analysis repository \n",
    "!git clone https://github.com/PurpleDin0/Quantitative-Discursive-Analysis.git\n",
    "\n",
    "%cd /content/Quantitative-Discursive-Analysis/ # navigate to the created folder\n",
    "\n",
    "# install required modules\n",
    "!pip install -r requirements.txt   #WARNING: Code is not compatible with networkx v2.4, this installs the compatable version\n",
    "\n",
    "#\n",
    "import QDA as QDA         \n",
    " \n",
    "import pandas as pd  #import pandas\n",
    "print(\"Pandas imported as Version: \",pd.__version__)\n",
    "# import plotly                ## Commented out as only plotly.graph_objects was needed in this analysis\n",
    "# print(\"Plotly imported as Version: \",plotly.__version__) \n",
    "# import plotly.graph_objects as go #I am only loading the sub-modules that are needed in my code to make it faster to load\n",
    "\n",
    "import pickle                     #So we can save any of our output variables for later use\n",
    "import json                       #So we can import our saved JSON data\n",
    "#from sys import getsizeof        # allows us to check the size of variables, good way to check that you don't blowup your VM by using to much memory.\n",
    "#import string                ## Commented out as no longer needed\n",
    "#import nltk\n",
    "!python -m textblob.download_corpora\n",
    "#from nltk.corpus import stopwords\n",
    "#import networkx as nx\n",
    "import numpy as np"
   ]
  },
  {
   "cell_type": "markdown",
   "metadata": {
    "colab_type": "text",
    "id": "BZfdkSn1Osii"
   },
   "source": [
    "## Mounting Google Drive\n",
    "\n",
    "The best way to get input text into the *Colaboratory* VM, and to get any output info out of *Colaboratory*, is to route it through Google Drive *first*.\n",
    "\n",
    "Running this cell (which will only work in *Colaboratory*) will mount your personal Google Drive in the VM, which later cells can use to get data in/out. (it will ask for an auth code; that auth is not saved anywhere).  \n",
    "<font color='red'>**WARNING:**</font> Running this cell and authorizing access to *YOUR* google drive will give this notebook full read/write access to all your google drive files.  Only do this if you trust both author of the workbook and their coding skills, as bad code can delete your files or fill your drive with junk.  \n"
   ]
  },
  {
   "cell_type": "code",
   "execution_count": 0,
   "metadata": {
    "colab": {},
    "colab_type": "code",
    "id": "nekzw1kZ-NPS"
   },
   "outputs": [],
   "source": [
    "from google.colab import drive\n",
    "drive.mount('/content/drive/')\n"
   ]
  },
  {
   "cell_type": "markdown",
   "metadata": {
    "colab_type": "text",
    "id": "8hJAW7-8dEkh"
   },
   "source": [
    "#Read in the data\n",
    "Next we will read in the data to begin our analysis\n",
    "\n",
    "* [x] Sputnik News training data: This is full text date we exported and trained our models on.\n",
    "* [x] Markovify data: This data was created by training the markovify model with the Sputnik News data.  [Link to workbook here](https://colab.research.google.com/drive/1nkPCca1jtw4VH8q1oB64BHYDCwEh0CXS#scrollTo=pI40VnLyEIIF)\n",
    "* [x] GPT-2 data: This data was created by fine-tuning a 124M-parameter GPT-2 model with the Sputnik News data.  [Link to workbook here](https://colab.research.google.com/drive/1Hs30ZifOvO6T4WSDVWS7H7LaxFmzv-ER#scrollTo=KBkpRgBCBS2_)\n",
    "\n",
    "\n",
    "\n"
   ]
  },
  {
   "cell_type": "code",
   "execution_count": 2,
   "metadata": {
    "colab": {
     "base_uri": "https://localhost:8080/",
     "height": 33
    },
    "colab_type": "code",
    "executionInfo": {
     "elapsed": 4936,
     "status": "ok",
     "timestamp": 1591288454110,
     "user": {
      "displayName": "Barney Ales",
      "photoUrl": "https://lh3.googleusercontent.com/a-/AOh14Gg86EIDEUXFuwIBLZfymbGYfGk1mnezArvKefKW=s64",
      "userId": "06512472277656029571"
     },
     "user_tz": 240
    },
    "id": "58pmBa6COkjs",
    "outputId": "f32b07d5-4a54-4eef-d6b1-189f7a3feb04"
   },
   "outputs": [
    {
     "name": "stdout",
     "output_type": "stream",
     "text": [
      "/content/drive/My Drive/Colab Notebooks\n"
     ]
    }
   ],
   "source": [
    "#navigate to where the files are stored in gDrive\n",
    "%cd /content/drive/'My Drive'/'Colab Notebooks'\n",
    "\n",
    "#Open the data we generated with markovify\n",
    "with open(\"markovify_text_stored.json\", \"r\") as markovify_read_file: \n",
    "    markovify_text_data = json.load(markovify_read_file)\n",
    "\n",
    "#Open the data we generated with our fine tuned GPT-2 Model \n",
    "#Note: Due to GPU/RAM usage I had to make my file in 6 seperate runs this code recombines those files \n",
    "gpt_text_data = []\n",
    "for n in range(1, 5):\n",
    "    file_name = \"gpt_sputnik_text_data_\" + str(n) + \".json\"\n",
    "    \n",
    "    with open(file_name, \"r\") as gpt_read_file:\n",
    "        gpt_text_data += json.load(gpt_read_file)\n",
    "\n",
    "sputnik_text_data = pickle.load(open( \"Sputnik_body_alltext.p\", mode='rb'))\n",
    "\n"
   ]
  },
  {
   "cell_type": "markdown",
   "metadata": {
    "colab_type": "text",
    "id": "FoG0TzjmKOcr"
   },
   "source": [
    "# Create a dataframe from each source text \n",
    "* [ ] GPT: Read in the data created from the fine tuned model\n",
    "* [ ] Markovify: Combine strings to reach the average length of the GPT and human created text\n",
    "* [ ] Sputnik text:  Read in the data that was used to train the model"
   ]
  },
  {
   "cell_type": "markdown",
   "metadata": {
    "colab_type": "text",
    "id": "T2jM7XfgKJm4"
   },
   "source": [
    "## Create GPT Text dataframe"
   ]
  },
  {
   "cell_type": "code",
   "execution_count": 12,
   "metadata": {
    "colab": {
     "base_uri": "https://localhost:8080/",
     "height": 277
    },
    "colab_type": "code",
    "executionInfo": {
     "elapsed": 343,
     "status": "ok",
     "timestamp": 1591289127290,
     "user": {
      "displayName": "Barney Ales",
      "photoUrl": "https://lh3.googleusercontent.com/a-/AOh14Gg86EIDEUXFuwIBLZfymbGYfGk1mnezArvKefKW=s64",
      "userId": "06512472277656029571"
     },
     "user_tz": 240
    },
    "id": "Jcgske8GGlnf",
    "outputId": "c393b780-35ff-400c-d476-8adee18fc723"
   },
   "outputs": [
    {
     "data": {
      "text/html": [
       "<div>\n",
       "<style scoped>\n",
       "    .dataframe tbody tr th:only-of-type {\n",
       "        vertical-align: middle;\n",
       "    }\n",
       "\n",
       "    .dataframe tbody tr th {\n",
       "        vertical-align: top;\n",
       "    }\n",
       "\n",
       "    .dataframe thead th {\n",
       "        text-align: right;\n",
       "    }\n",
       "</style>\n",
       "<table border=\"1\" class=\"dataframe\">\n",
       "  <thead>\n",
       "    <tr style=\"text-align: right;\">\n",
       "      <th></th>\n",
       "      <th>length</th>\n",
       "      <th>Sentance_count</th>\n",
       "      <th>word_count</th>\n",
       "    </tr>\n",
       "  </thead>\n",
       "  <tbody>\n",
       "    <tr>\n",
       "      <th>count</th>\n",
       "      <td>500.000000</td>\n",
       "      <td>500.000000</td>\n",
       "      <td>500.000000</td>\n",
       "    </tr>\n",
       "    <tr>\n",
       "      <th>mean</th>\n",
       "      <td>3548.610000</td>\n",
       "      <td>27.096000</td>\n",
       "      <td>599.680000</td>\n",
       "    </tr>\n",
       "    <tr>\n",
       "      <th>std</th>\n",
       "      <td>377.406392</td>\n",
       "      <td>8.805786</td>\n",
       "      <td>73.528951</td>\n",
       "    </tr>\n",
       "    <tr>\n",
       "      <th>min</th>\n",
       "      <td>855.000000</td>\n",
       "      <td>1.000000</td>\n",
       "      <td>12.000000</td>\n",
       "    </tr>\n",
       "    <tr>\n",
       "      <th>25%</th>\n",
       "      <td>3395.000000</td>\n",
       "      <td>23.000000</td>\n",
       "      <td>586.000000</td>\n",
       "    </tr>\n",
       "    <tr>\n",
       "      <th>50%</th>\n",
       "      <td>3602.500000</td>\n",
       "      <td>27.000000</td>\n",
       "      <td>613.500000</td>\n",
       "    </tr>\n",
       "    <tr>\n",
       "      <th>75%</th>\n",
       "      <td>3785.250000</td>\n",
       "      <td>30.000000</td>\n",
       "      <td>636.000000</td>\n",
       "    </tr>\n",
       "    <tr>\n",
       "      <th>max</th>\n",
       "      <td>4345.000000</td>\n",
       "      <td>156.000000</td>\n",
       "      <td>699.000000</td>\n",
       "    </tr>\n",
       "  </tbody>\n",
       "</table>\n",
       "</div>"
      ],
      "text/plain": [
       "            length  Sentance_count  word_count\n",
       "count   500.000000      500.000000  500.000000\n",
       "mean   3548.610000       27.096000  599.680000\n",
       "std     377.406392        8.805786   73.528951\n",
       "min     855.000000        1.000000   12.000000\n",
       "25%    3395.000000       23.000000  586.000000\n",
       "50%    3602.500000       27.000000  613.500000\n",
       "75%    3785.250000       30.000000  636.000000\n",
       "max    4345.000000      156.000000  699.000000"
      ]
     },
     "execution_count": 12,
     "metadata": {
      "tags": []
     },
     "output_type": "execute_result"
    }
   ],
   "source": [
    "gpt_df = pd.DataFrame(gpt_text_data, columns=['text']) #Store the GPT data in a DataFrame\n",
    "gpt_df['length'] = gpt_df['text'].apply(lambda x : len(x)) #find the character length of each article\n",
    "gpt_df['Sentance_count'] = gpt_df['text'].apply(lambda x : x.count('.')) #approximate sentance count of each article\n",
    "gpt_df['Text_clean'] = gpt_df['text'].apply(lambda x : x.lower()) #make the text of each article lowercase\n",
    "gpt_df['Text_clean'] = gpt_df['Text_clean'].str.replace('\\n',' ') #remove new lines \"\\n\" from the dataset\n",
    "gpt_df['Text_clean'] = gpt_df['Text_clean'].str.replace('[^\\w\\s]','') #clean the data to remove all special characters and punctuation\n",
    "gpt_df['word_count'] = gpt_df['Text_clean'].apply(lambda x : len(x.split())) #more accurate word count after all special chars have been removed\n",
    "gpt_df.describe()"
   ]
  },
  {
   "cell_type": "code",
   "execution_count": 0,
   "metadata": {
    "colab": {},
    "colab_type": "code",
    "id": "6siI7q7uM5XG"
   },
   "outputs": [],
   "source": [
    "print(gpt_df['Text_clean'][0])\n",
    "print(gpt_df['text'][0])"
   ]
  },
  {
   "cell_type": "markdown",
   "metadata": {
    "colab_type": "text",
    "id": "zb_gpgFuKj0J"
   },
   "source": [
    "##Create the Markovify dataframe\n",
    "1. Import the Markovify data trained on the human text\n",
    "2. Merge the individual Markovify sentences into article length content.  This is done to provide similar length text corpora.  However, as the Markovify text generator is limited to sentence length content generation, this will create a seemingly random string of sentences.  This will cause the discursive graphs of the Markovify content to be less <font color=red>?focused? (not the right word to describe this)</font>.  This will likely result in the markovify content being deemed more discursively disimilar to coherent article length content.  As Markovify is a content generator that lacks the [\"Attention Mechansism\"](http://jalammar.github.io/illustrated-gpt2/) of GPT-2 or many of the other advanced natural language generation models.  Since this is a fundemental weakness of text-generation using Markovify, and as the focus is to identify machine-generated versus human-generated text in long-form articles, this is an acceptable issue with the dataset.   "
   ]
  },
  {
   "cell_type": "code",
   "execution_count": 0,
   "metadata": {
    "colab": {},
    "colab_type": "code",
    "id": "9v-aXa_pKjDu"
   },
   "outputs": [],
   "source": [
    "with open(\"markovify_text_stored.json\", \"r\") as markovify_read_file: \n",
    "    markovify_text_data = json.load(markovify_read_file)\n",
    "markovify_sentences = ['']\n",
    "i = 0\n",
    "for sentence in markovify_text_data:\n",
    "    markovify_sentences[i] += sentence + ' '\n",
    "    if len(markovify_sentences[i]) > gpt_df['length'].mean():\n",
    "        markovify_sentences.append('')\n",
    "        i += 1\n",
    "markovify_df = pd.DataFrame(markovify_sentences, columns=['text'])\n",
    "markovify_df['length'] = markovify_df['text'].apply(lambda x : len(x))\n"
   ]
  },
  {
   "cell_type": "markdown",
   "metadata": {
    "colab_type": "text",
    "id": "9a2ZMoZuKxIB"
   },
   "source": [
    "## Create the human text dataframe\n",
    "1. [x] Input the human text that was used to train the markovify and fine-tune the GPT-2 model\n",
    "**NOTE: This data was used to train the model, and we are using it to compare against the trained model to increase the potential that we will find resonance between the trained models and the source text.  If there is little resonance found we can assume that using a different set of human text will further decrease resonance**\n",
    "2. [ ] Input a second selection of human text in the same style of the training text (e.g. Sputnik data from a different time period).  This dataset should have a lower resonance then the training/fine-tuning dataset as topics in discurse tend to drift over time."
   ]
  },
  {
   "cell_type": "code",
   "execution_count": 0,
   "metadata": {
    "colab": {
     "base_uri": "https://localhost:8080/",
     "height": 255
    },
    "colab_type": "code",
    "executionInfo": {
     "elapsed": 7019,
     "status": "ok",
     "timestamp": 1591197958825,
     "user": {
      "displayName": "Barney Ales",
      "photoUrl": "https://lh3.googleusercontent.com/a-/AOh14Gg86EIDEUXFuwIBLZfymbGYfGk1mnezArvKefKW=s64",
      "userId": "06512472277656029571"
     },
     "user_tz": 240
    },
    "id": "I8Y2kifUKxbp",
    "outputId": "68c9b0e1-67ca-4af9-ae83-612f8eb8a85d"
   },
   "outputs": [
    {
     "name": "stdout",
     "output_type": "stream",
     "text": [
      "<class 'pandas.core.frame.DataFrame'>\n",
      "RangeIndex: 28845 entries, 0 to 28844\n",
      "Data columns (total 7 columns):\n",
      " #   Column              Non-Null Count  Dtype \n",
      "---  ------              --------------  ----- \n",
      " 0   Title               28845 non-null  object\n",
      " 1   Body                28845 non-null  object\n",
      " 2   Source_Name         28845 non-null  object\n",
      " 3   Source_Date,_Start  28845 non-null  object\n",
      " 4   Creator             20224 non-null  object\n",
      " 5   Keywords            4541 non-null   object\n",
      " 6   Source_Medium       28845 non-null  object\n",
      "dtypes: object(7)\n",
      "memory usage: 1.5+ MB\n"
     ]
    }
   ],
   "source": [
    "data = pd.read_csv('English_Language-State_Media-11-2019.csv') #imports the file\n",
    "data.columns = data.columns.str.replace(' ', '_') #cleans up the columns by replacing spaces with \"_\" - Note: Spaces are evil and their use in code is immoral :-P\n",
    "#data.head() #This displays the first few rows of the data\n",
    "data = data.drop(columns=['Unnamed:_0']) #drop the old index from the csv file\n",
    "\n",
    "#Replace NA content in the Body column with blank (i.e. \"\") values\n",
    "values = {'Body': \"\"} #create a dictionary with the columns that you want to search and the value you want to replace.\n",
    "data = data.fillna(value=values) #Some of the body field is blank\n",
    "data.info() #display the info to see if we fixed it"
   ]
  },
  {
   "cell_type": "markdown",
   "metadata": {
    "colab_type": "text",
    "id": "KQm1CPTP40Xh"
   },
   "source": [
    "### Select the human generated content\n",
    "* [ ] : First we will try using Sputnik text data with min/max length similar to that of the GPT and Markovify data\n"
   ]
  },
  {
   "cell_type": "code",
   "execution_count": 0,
   "metadata": {
    "colab": {
     "base_uri": "https://localhost:8080/",
     "height": 153
    },
    "colab_type": "code",
    "executionInfo": {
     "elapsed": 299,
     "status": "ok",
     "timestamp": 1591198225204,
     "user": {
      "displayName": "Barney Ales",
      "photoUrl": "https://lh3.googleusercontent.com/a-/AOh14Gg86EIDEUXFuwIBLZfymbGYfGk1mnezArvKefKW=s64",
      "userId": "06512472277656029571"
     },
     "user_tz": 240
    },
    "id": "FEMKENk-Lzdn",
    "outputId": "b9f0a036-7f16-475f-b55a-80257f361671"
   },
   "outputs": [
    {
     "name": "stderr",
     "output_type": "stream",
     "text": [
      "/usr/local/lib/python3.6/dist-packages/ipykernel_launcher.py:3: SettingWithCopyWarning:\n",
      "\n",
      "\n",
      "A value is trying to be set on a copy of a slice from a DataFrame.\n",
      "Try using .loc[row_indexer,col_indexer] = value instead\n",
      "\n",
      "See the caveats in the documentation: https://pandas.pydata.org/pandas-docs/stable/user_guide/indexing.html#returning-a-view-versus-a-copy\n",
      "\n"
     ]
    }
   ],
   "source": [
    "sputnik_df = data.loc[data['Source_Name'] == 'Sputnik', :]\n",
    "\n",
    "sputnik_df['length'] = sputnik_df['Body'].apply(lambda x : len(x))\n",
    "\n",
    "# Drop the long (over 4000 characters) and short (under 3000 characters) articles from the dataframe\n",
    "# This is done to ensure the content length of each article is approxamitley the same at 3500 characters, which is about 575 words or 1 page. \n",
    "sputnik_df = sputnik_df[sputnik_df.length.between(3000, 4000)]"
   ]
  },
  {
   "cell_type": "markdown",
   "metadata": {
    "colab_type": "text",
    "id": "12EI4nR00B13"
   },
   "source": [
    "## Analyze the three dataframes\n",
    "Check the length of the three dataframes to ensure the text content is of similar size"
   ]
  },
  {
   "cell_type": "code",
   "execution_count": 17,
   "metadata": {
    "colab": {
     "base_uri": "https://localhost:8080/",
     "height": 277
    },
    "colab_type": "code",
    "executionInfo": {
     "elapsed": 308,
     "status": "ok",
     "timestamp": 1591289985196,
     "user": {
      "displayName": "Barney Ales",
      "photoUrl": "https://lh3.googleusercontent.com/a-/AOh14Gg86EIDEUXFuwIBLZfymbGYfGk1mnezArvKefKW=s64",
      "userId": "06512472277656029571"
     },
     "user_tz": 240
    },
    "id": "VL0fBnnj5sqs",
    "outputId": "d7a1929f-bd93-4f00-b95e-45cf2181f2d1"
   },
   "outputs": [
    {
     "data": {
      "text/html": [
       "<div>\n",
       "<style scoped>\n",
       "    .dataframe tbody tr th:only-of-type {\n",
       "        vertical-align: middle;\n",
       "    }\n",
       "\n",
       "    .dataframe tbody tr th {\n",
       "        vertical-align: top;\n",
       "    }\n",
       "\n",
       "    .dataframe thead th {\n",
       "        text-align: right;\n",
       "    }\n",
       "</style>\n",
       "<table border=\"1\" class=\"dataframe\">\n",
       "  <thead>\n",
       "    <tr style=\"text-align: right;\">\n",
       "      <th></th>\n",
       "      <th>length</th>\n",
       "      <th>Sentance_count</th>\n",
       "      <th>word_count</th>\n",
       "    </tr>\n",
       "  </thead>\n",
       "  <tbody>\n",
       "    <tr>\n",
       "      <th>count</th>\n",
       "      <td>500.000000</td>\n",
       "      <td>500.000000</td>\n",
       "      <td>500.000000</td>\n",
       "    </tr>\n",
       "    <tr>\n",
       "      <th>mean</th>\n",
       "      <td>3548.610000</td>\n",
       "      <td>27.096000</td>\n",
       "      <td>599.680000</td>\n",
       "    </tr>\n",
       "    <tr>\n",
       "      <th>std</th>\n",
       "      <td>377.406392</td>\n",
       "      <td>8.805786</td>\n",
       "      <td>73.528951</td>\n",
       "    </tr>\n",
       "    <tr>\n",
       "      <th>min</th>\n",
       "      <td>855.000000</td>\n",
       "      <td>1.000000</td>\n",
       "      <td>12.000000</td>\n",
       "    </tr>\n",
       "    <tr>\n",
       "      <th>25%</th>\n",
       "      <td>3395.000000</td>\n",
       "      <td>23.000000</td>\n",
       "      <td>586.000000</td>\n",
       "    </tr>\n",
       "    <tr>\n",
       "      <th>50%</th>\n",
       "      <td>3602.500000</td>\n",
       "      <td>27.000000</td>\n",
       "      <td>613.500000</td>\n",
       "    </tr>\n",
       "    <tr>\n",
       "      <th>75%</th>\n",
       "      <td>3785.250000</td>\n",
       "      <td>30.000000</td>\n",
       "      <td>636.000000</td>\n",
       "    </tr>\n",
       "    <tr>\n",
       "      <th>max</th>\n",
       "      <td>4345.000000</td>\n",
       "      <td>156.000000</td>\n",
       "      <td>699.000000</td>\n",
       "    </tr>\n",
       "  </tbody>\n",
       "</table>\n",
       "</div>"
      ],
      "text/plain": [
       "            length  Sentance_count  word_count\n",
       "count   500.000000      500.000000  500.000000\n",
       "mean   3548.610000       27.096000  599.680000\n",
       "std     377.406392        8.805786   73.528951\n",
       "min     855.000000        1.000000   12.000000\n",
       "25%    3395.000000       23.000000  586.000000\n",
       "50%    3602.500000       27.000000  613.500000\n",
       "75%    3785.250000       30.000000  636.000000\n",
       "max    4345.000000      156.000000  699.000000"
      ]
     },
     "execution_count": 17,
     "metadata": {
      "tags": []
     },
     "output_type": "execute_result"
    }
   ],
   "source": [
    "gpt_df.describe() "
   ]
  },
  {
   "cell_type": "code",
   "execution_count": 0,
   "metadata": {
    "colab": {
     "base_uri": "https://localhost:8080/",
     "height": 170
    },
    "colab_type": "code",
    "executionInfo": {
     "elapsed": 304,
     "status": "ok",
     "timestamp": 1591199234426,
     "user": {
      "displayName": "Barney Ales",
      "photoUrl": "https://lh3.googleusercontent.com/a-/AOh14Gg86EIDEUXFuwIBLZfymbGYfGk1mnezArvKefKW=s64",
      "userId": "06512472277656029571"
     },
     "user_tz": 240
    },
    "id": "EUGUM9V65WB6",
    "outputId": "92546df8-a37d-4a55-ced5-0d85b9838235"
   },
   "outputs": [
    {
     "data": {
      "text/plain": [
       "count     500.000000\n",
       "mean     3548.610000\n",
       "std       377.406392\n",
       "min       855.000000\n",
       "25%      3395.000000\n",
       "50%      3602.500000\n",
       "75%      3785.250000\n",
       "max      4345.000000\n",
       "Name: length, dtype: float64"
      ]
     },
     "execution_count": 14,
     "metadata": {
      "tags": []
     },
     "output_type": "execute_result"
    }
   ],
   "source": [
    "markovify_df.describe()"
   ]
  },
  {
   "cell_type": "code",
   "execution_count": 16,
   "metadata": {
    "colab": {
     "base_uri": "https://localhost:8080/",
     "height": 158
    },
    "colab_type": "code",
    "executionInfo": {
     "elapsed": 366,
     "status": "error",
     "timestamp": 1591289982385,
     "user": {
      "displayName": "Barney Ales",
      "photoUrl": "https://lh3.googleusercontent.com/a-/AOh14Gg86EIDEUXFuwIBLZfymbGYfGk1mnezArvKefKW=s64",
      "userId": "06512472277656029571"
     },
     "user_tz": 240
    },
    "id": "zSAMDKYN5849",
    "outputId": "77992ce1-05d8-47b7-e6b3-d87a2a43df1f"
   },
   "outputs": [
    {
     "ename": "NameError",
     "evalue": "ignored",
     "output_type": "error",
     "traceback": [
      "\u001b[0;31m---------------------------------------------------------------------------\u001b[0m",
      "\u001b[0;31mNameError\u001b[0m                                 Traceback (most recent call last)",
      "\u001b[0;32m<ipython-input-16-3bb61404f911>\u001b[0m in \u001b[0;36m<module>\u001b[0;34m()\u001b[0m\n\u001b[0;32m----> 1\u001b[0;31m \u001b[0msputnik_df\u001b[0m\u001b[0;34m.\u001b[0m\u001b[0mdescribe\u001b[0m\u001b[0;34m(\u001b[0m\u001b[0;34m)\u001b[0m\u001b[0;34m\u001b[0m\u001b[0;34m\u001b[0m\u001b[0m\n\u001b[0m",
      "\u001b[0;31mNameError\u001b[0m: name 'sputnik_df' is not defined"
     ]
    }
   ],
   "source": [
    "sputnik_df.describe()"
   ]
  },
  {
   "cell_type": "markdown",
   "metadata": {
    "colab_type": "text",
    "id": "fBVtje98zM3g"
   },
   "source": [
    "# Instantiate discursive objects for each text corpora\n",
    "* [x] Create a QDA discursive object for each article in the markovify, GPT-2, and human text data.  \n",
    "  Compute Time Note: on Google Colab QDA objects can be created for each ~1500 articles in under 1 minute.\n",
    "* [x] Add these QDA objects to the dataframe"
   ]
  },
  {
   "cell_type": "code",
   "execution_count": 0,
   "metadata": {
    "colab": {},
    "colab_type": "code",
    "id": "m-SRwoj4x5k3"
   },
   "outputs": [],
   "source": [
    "## Compute the QDA object for each item in the Dataframes\n",
    "# Create the QDA objects for the markovify data\n",
    "markovify_df['QDA_object'] = markovify_df['text'].apply(lambda x :  QDA.discursive_object(x))\n",
    "\n",
    "gpt_df['QDA_object'] = gpt_df['text'].apply(lambda x :  QDA.discursive_object(x))\n",
    "\n",
    "sputnik_df['QDA_object'] = sputnik_df['Body'].apply(lambda x :  QDA.discursive_object(x))"
   ]
  },
  {
   "cell_type": "markdown",
   "metadata": {
    "colab_type": "text",
    "id": "uyI472fG-W0Y"
   },
   "source": [
    "# Create the Discursive simularity matrixs\n",
    "\n",
    "1. [ ] Create a discursive community matrix for the GPT, Markovify, and Human text data\n",
    "2. [ ] Anlayze that data to see if anything can be learned from looking at the data when compared to itself\n",
    "3. [ ] Create one large discursive community matrix for the GPT, Markovify, and Human text data\n",
    "  * [ ] If this fails, create three matrices, one for each of the GPT - Markovify, Markovify - Human, and Human - GPT text data"
   ]
  },
  {
   "cell_type": "code",
   "execution_count": 0,
   "metadata": {
    "colab": {
     "base_uri": "https://localhost:8080/",
     "height": 33
    },
    "colab_type": "code",
    "executionInfo": {
     "elapsed": 779436,
     "status": "ok",
     "timestamp": 1591119680030,
     "user": {
      "displayName": "Barney Ales",
      "photoUrl": "https://lh3.googleusercontent.com/a-/AOh14Gg86EIDEUXFuwIBLZfymbGYfGk1mnezArvKefKW=s64",
      "userId": "06512472277656029571"
     },
     "user_tz": 240
    },
    "id": "Xv1l1HCV9eAX",
    "outputId": "02742610-eea8-467c-9460-b84a47d40fea"
   },
   "outputs": [
    {
     "name": "stdout",
     "output_type": "stream",
     "text": [
      "/content/drive/My Drive/Colab Notebooks/Thesis\n"
     ]
    }
   ],
   "source": [
    "# Create the discursive community matrix for the GPT data \n",
    "gpt_discursive_community = QDA.discursive_community(gpt_df['QDA_object'].to_list())\n",
    "\n",
    "# Save the discursive community matrix to Google Drive for later input\n",
    "%cd '/content/drive/My Drive/Colab Notebooks/Thesis'\n",
    "pickle.dump(gpt_discursive_community, open( \"gpt_discursive_community.p\", \"wb\" ) )"
   ]
  },
  {
   "cell_type": "code",
   "execution_count": 0,
   "metadata": {
    "colab": {
     "base_uri": "https://localhost:8080/",
     "height": 54
    },
    "colab_type": "code",
    "id": "NTV1y6DMBjno",
    "outputId": "ba416572-fc99-4d12-d69f-1f9c0d98c64d"
   },
   "outputs": [
    {
     "name": "stdout",
     "output_type": "stream",
     "text": [
      "/content/drive/My Drive/Colab Notebooks/Thesis\n"
     ]
    }
   ],
   "source": [
    "# Create the discursive community matrix for the markovify data \n",
    "markovify_discursive_community = QDA.discursive_community(markovify_df['QDA_object'].to_list())\n",
    " \n",
    "# Save the discursive community matrix to Google Drive for later input\n",
    "%cd '/content/drive/My Drive/Colab Notebooks/Thesis'\n",
    "pickle.dump(markovify_discursive_community, open( \"markovify_discursive_community.p\", \"wb\" ) )\n",
    " \n",
    "# Create the discursive community matrix for the markovify data \n",
    "sputnik_discursive_community = QDA.discursive_community(sputnik_df['QDA_object'].to_list())\n",
    " \n",
    "# Save the discursive community matrix to Google Drive for later input\n",
    "%cd '/content/drive/My Drive/Colab Notebooks/Thesis'\n",
    "pickle.dump(sputnik_discursive_community, open( \"sputnik_discursive_community.p\", \"wb\" ) )"
   ]
  },
  {
   "cell_type": "code",
   "execution_count": 0,
   "metadata": {
    "colab": {},
    "colab_type": "code",
    "id": "EP8cqxFsG12L"
   },
   "outputs": [],
   "source": [
    "## WARNING: Quantity of objects (~1500) to great to analyze with Google Colab\n",
    "## Create the discursive community matrix for the entire dataset\n",
    "#merged_QDA_objects = gpt_df['QDA_object'].to_list() + markovify_df['QDA_object'].to_list() + sputnik_df['QDA_object'].to_list()\n",
    "#merged_discursive_community = QDA.discursive_community(merged_QDA_objects)\n",
    "\n",
    "## Save the discursive community matrix to Google Drive for later input\n",
    "#%cd '/content/drive/My Drive/Colab Notebooks/Thesis'\n",
    "#pickle.dump(markovify_discursive_community, open( \"merged_data_discursive_community.p\", \"wb\" ) )"
   ]
  },
  {
   "cell_type": "code",
   "execution_count": 0,
   "metadata": {
    "colab": {
     "base_uri": "https://localhost:8080/",
     "height": 34
    },
    "colab_type": "code",
    "executionInfo": {
     "elapsed": 100885,
     "status": "ok",
     "timestamp": 1591200361113,
     "user": {
      "displayName": "Barney Ales",
      "photoUrl": "https://lh3.googleusercontent.com/a-/AOh14Gg86EIDEUXFuwIBLZfymbGYfGk1mnezArvKefKW=s64",
      "userId": "06512472277656029571"
     },
     "user_tz": 240
    },
    "id": "4zFr7d-arv-v",
    "outputId": "92fc3778-6be7-4066-d9e7-c202d964fe1e"
   },
   "outputs": [
    {
     "name": "stdout",
     "output_type": "stream",
     "text": [
      "/content/drive/My Drive/Colab Notebooks/Thesis\n"
     ]
    }
   ],
   "source": [
    "# Create a discursive community matrix for a subset of the entire dataset\n",
    "# select a random 100 entries from each text set (GPT, Markovify, and Human_text)\n",
    "# to enable result reproducibilty random_sate is set to the integer \"1984\" \n",
    "\n",
    "gpt_sample_df = gpt_df.sample(n=100, random_state=1984)\n",
    "markovify_sample_df = markovify_df.sample(n=100, random_state=1984)\n",
    "sputnik_sample_df = sputnik_df.sample(n=100, random_state=1984)\n",
    "\n",
    "sample_discursive_objects = ( gpt_sample_df['QDA_object'].to_list()       + \n",
    "                              markovify_sample_df['QDA_object'].to_list() +\n",
    "                              sputnik_sample_df['QDA_object'].to_list()   )\n",
    "\n",
    "sample_discursive_community = QDA.discursive_community(sample_discursive_objects)\n",
    "\n",
    "# Save the discursive community matrix to Google Drive for later input\n",
    "%cd '/content/drive/My Drive/Colab Notebooks/Thesis'\n",
    "pickle.dump(sample_discursive_community, open( \"sample_discursive_community.p\", \"wb\" ) )\n"
   ]
  },
  {
   "cell_type": "code",
   "execution_count": 0,
   "metadata": {
    "colab": {},
    "colab_type": "code",
    "id": "icnrRLdQ38h5"
   },
   "outputs": [],
   "source": [
    "sample_discursive_community_df = pd.DataFrame(sample_discursive_community.A)"
   ]
  },
  {
   "cell_type": "code",
   "execution_count": 0,
   "metadata": {
    "colab": {},
    "colab_type": "code",
    "id": "mUDlqndk3_VY"
   },
   "outputs": [],
   "source": [
    "sample_discursive_community_df.to_csv('sample_discursive_community.csv')"
   ]
  },
  {
   "cell_type": "markdown",
   "metadata": {
    "colab_type": "text",
    "id": "guZGQhmHNTkt"
   },
   "source": [
    "# Determine any clustering"
   ]
  },
  {
   "cell_type": "code",
   "execution_count": 0,
   "metadata": {
    "colab": {
     "base_uri": "https://localhost:8080/",
     "height": 34
    },
    "colab_type": "code",
    "executionInfo": {
     "elapsed": 336,
     "status": "ok",
     "timestamp": 1591209036939,
     "user": {
      "displayName": "Barney Ales",
      "photoUrl": "https://lh3.googleusercontent.com/a-/AOh14Gg86EIDEUXFuwIBLZfymbGYfGk1mnezArvKefKW=s64",
      "userId": "06512472277656029571"
     },
     "user_tz": 240
    },
    "id": "3oRdk32Bbr6M",
    "outputId": "a694f5ab-e02e-4cb2-9800-f0cbc5ca610a"
   },
   "outputs": [
    {
     "data": {
      "text/plain": [
       "0.0"
      ]
     },
     "execution_count": 62,
     "metadata": {
      "tags": []
     },
     "output_type": "execute_result"
    }
   ],
   "source": [
    "#Code to check that the matrix was created succesfully\n",
    "sample_discursive_community_df[0][110]\n",
    "#QDA.resonate(sample_discursive_objects[0],sample_discursive_objects[100])"
   ]
  },
  {
   "cell_type": "markdown",
   "metadata": {
    "colab_type": "text",
    "id": "ULiTgfyjz1r8"
   },
   "source": [
    "# DEBUG SECTION"
   ]
  },
  {
   "cell_type": "code",
   "execution_count": 0,
   "metadata": {
    "colab": {
     "base_uri": "https://localhost:8080/",
     "height": 54
    },
    "colab_type": "code",
    "executionInfo": {
     "elapsed": 531,
     "status": "ok",
     "timestamp": 1591042941165,
     "user": {
      "displayName": "Barney Ales",
      "photoUrl": "https://lh3.googleusercontent.com/a-/AOh14Gg86EIDEUXFuwIBLZfymbGYfGk1mnezArvKefKW=s64",
      "userId": "06512472277656029571"
     },
     "user_tz": 240
    },
    "id": "sgbRpMvgjJND",
    "outputId": "0acf53b6-2bd8-4276-a7d9-ccc2639759ab"
   },
   "outputs": [
    {
     "data": {
      "text/plain": [
       "WordList(['donor families', 'trumps potential', 'good friday agreement', 'necessary means', 'invade syria', 'lady melania trump', 'boston globe', 'ap photo / matt dunham police officers', 'british citizen', 'washington post', 'press service', 'court premises', 'time bomb', 'benn act', 'sunday news conference', 'stray animal', 'whole country', 'security committee', 'foreign fighters', 'danish citizenship', 'first-ever game changer award', 'twitter world', 'third-party candidate', 'early vote', 'border area', 'kurdish militants', 'mercury news', 'quds newspaper', 'twitter audience', 'sputnik. < end', 'text >', 'prime ministers tony blair institute', 'labour mps', 'weekly series criminal injustice', 'house committees', 'russian government staff sergei prikhodko', 'religious conflict', 'major corridor', 'human workers', 'global superpower', \"assange 's arrest\", 'new york times', 'old singer', 'arron banks', 'political ally arron banks', 'presidential election', 'ambassador kislyak', 'media reports. < end', 'text >', 'big shots'])"
      ]
     },
     "execution_count": 73,
     "metadata": {
      "tags": []
     },
     "output_type": "execute_result"
    }
   ],
   "source": [
    "nouns"
   ]
  },
  {
   "cell_type": "code",
   "execution_count": 0,
   "metadata": {
    "colab": {
     "base_uri": "https://localhost:8080/",
     "height": 400
    },
    "colab_type": "code",
    "executionInfo": {
     "elapsed": 851,
     "status": "ok",
     "timestamp": 1591114469462,
     "user": {
      "displayName": "Barney Ales",
      "photoUrl": "https://lh3.googleusercontent.com/a-/AOh14Gg86EIDEUXFuwIBLZfymbGYfGk1mnezArvKefKW=s64",
      "userId": "06512472277656029571"
     },
     "user_tz": 240
    },
    "id": "u8rg6r-dizkX",
    "outputId": "6aab3561-da40-4c23-c644-0e943bddda2d"
   },
   "outputs": [
    {
     "name": "stderr",
     "output_type": "stream",
     "text": [
      "/usr/local/lib/python3.6/dist-packages/networkx/drawing/nx_pylab.py:579: MatplotlibDeprecationWarning:\n",
      "\n",
      "\n",
      "The iterable function was deprecated in Matplotlib 3.1 and will be removed in 3.3. Use np.iterable instead.\n",
      "\n"
     ]
    },
    {
     "data": {
      "image/png": "[encoded data removed]",
      "text/plain": [
       "<Figure size 432x288 with 1 Axes>"
      ]
     },
     "metadata": {
      "tags": []
     },
     "output_type": "display_data"
    }
   ],
   "source": [
    "import matplotlib.pyplot as plt\n",
    "import networkx as nx\n",
    "nx.draw(qda2.graph)"
   ]
  },
  {
   "cell_type": "markdown",
   "metadata": {
    "colab_type": "text",
    "id": "5FCXtqDgqk2H"
   },
   "source": [
    "# Analyze Discursive simularity matrixs\n",
    "\n",
    "1. [ ] read in the saved discursive community matrices for the GPT, Markovify, Human text, and merged_sample data\n",
    "2. [ ] Anlayze that data to see if anything can be learned from looking at the data when compared to itself\n",
    "3. [ ] Create one large discursive community matrix for the GPT, Markovify, and Human text data\n",
    "  * [ ] If this fails, create three matrices, one for each of the GPT - Markovify, Markovify - Human, and Human - GPT text data \n"
   ]
  },
  {
   "cell_type": "code",
   "execution_count": 2,
   "metadata": {
    "colab": {
     "base_uri": "https://localhost:8080/",
     "height": 240
    },
    "colab_type": "code",
    "executionInfo": {
     "elapsed": 980,
     "status": "error",
     "timestamp": 1591276078821,
     "user": {
      "displayName": "Barney Ales",
      "photoUrl": "https://lh3.googleusercontent.com/a-/AOh14Gg86EIDEUXFuwIBLZfymbGYfGk1mnezArvKefKW=s64",
      "userId": "06512472277656029571"
     },
     "user_tz": 240
    },
    "id": "cGRgi93x8RE-",
    "outputId": "f61c41b4-2ae5-488f-dd85-15517c7ca3bf"
   },
   "outputs": [
    {
     "name": "stdout",
     "output_type": "stream",
     "text": [
      "/content/drive/My Drive/Colab Notebooks/Thesis\n"
     ]
    },
    {
     "ename": "NameError",
     "evalue": "ignored",
     "output_type": "error",
     "traceback": [
      "\u001b[0;31m---------------------------------------------------------------------------\u001b[0m",
      "\u001b[0;31mNameError\u001b[0m                                 Traceback (most recent call last)",
      "\u001b[0;32m<ipython-input-2-f890233b3183>\u001b[0m in \u001b[0;36m<module>\u001b[0;34m()\u001b[0m\n\u001b[1;32m      2\u001b[0m \u001b[0mget_ipython\u001b[0m\u001b[0;34m(\u001b[0m\u001b[0;34m)\u001b[0m\u001b[0;34m.\u001b[0m\u001b[0mmagic\u001b[0m\u001b[0;34m(\u001b[0m\u001b[0;34m\"cd '/content/drive/My Drive/Colab Notebooks/Thesis'\"\u001b[0m\u001b[0;34m)\u001b[0m\u001b[0;34m\u001b[0m\u001b[0;34m\u001b[0m\u001b[0m\n\u001b[1;32m      3\u001b[0m \u001b[0;34m\u001b[0m\u001b[0m\n\u001b[0;32m----> 4\u001b[0;31m \u001b[0mpd\u001b[0m\u001b[0;34m.\u001b[0m\u001b[0mread_pickle\u001b[0m\u001b[0;34m(\u001b[0m\u001b[0;34m'merged_data_discursive_community.p'\u001b[0m\u001b[0;34m)\u001b[0m\u001b[0;34m\u001b[0m\u001b[0;34m\u001b[0m\u001b[0m\n\u001b[0m\u001b[1;32m      5\u001b[0m \u001b[0;34m\u001b[0m\u001b[0m\n\u001b[1;32m      6\u001b[0m \u001b[0mdf\u001b[0m\u001b[0;34m[\u001b[0m\u001b[0;34m'num_legs'\u001b[0m\u001b[0;34m]\u001b[0m\u001b[0;34m.\u001b[0m\u001b[0msample\u001b[0m\u001b[0;34m(\u001b[0m\u001b[0mn\u001b[0m\u001b[0;34m=\u001b[0m\u001b[0;36m3\u001b[0m\u001b[0;34m,\u001b[0m \u001b[0mrandom_state\u001b[0m\u001b[0;34m=\u001b[0m\u001b[0;36m1\u001b[0m\u001b[0;34m)\u001b[0m\u001b[0;34m\u001b[0m\u001b[0;34m\u001b[0m\u001b[0m\n",
      "\u001b[0;31mNameError\u001b[0m: name 'pd' is not defined"
     ]
    }
   ],
   "source": [
    "# Read in the \n",
    "%cd '/content/drive/My Drive/Colab Notebooks/Thesis'\n",
    "\n",
    "pd.read_pickle('merged_data_discursive_community.p')\n",
    "\n",
    "df['num_legs'].sample(n=3, random_state=1)"
   ]
  },
  {
   "cell_type": "code",
   "execution_count": 0,
   "metadata": {
    "colab": {
     "base_uri": "https://localhost:8080/",
     "height": 400
    },
    "colab_type": "code",
    "executionInfo": {
     "elapsed": 5995,
     "status": "ok",
     "timestamp": 1591118473410,
     "user": {
      "displayName": "Barney Ales",
      "photoUrl": "https://lh3.googleusercontent.com/a-/AOh14Gg86EIDEUXFuwIBLZfymbGYfGk1mnezArvKefKW=s64",
      "userId": "06512472277656029571"
     },
     "user_tz": 240
    },
    "id": "VYhm5h11DBYy",
    "outputId": "24d547b3-b349-4c69-e1bb-9c3a14d3ba80"
   },
   "outputs": [
    {
     "name": "stderr",
     "output_type": "stream",
     "text": [
      "/usr/local/lib/python3.6/dist-packages/networkx/drawing/nx_pylab.py:579: MatplotlibDeprecationWarning:\n",
      "\n",
      "\n",
      "The iterable function was deprecated in Matplotlib 3.1 and will be removed in 3.3. Use np.iterable instead.\n",
      "\n"
     ]
    },
    {
     "data": {
      "image/png": "[encoded data removed]",
      "text/plain": [
       "<Figure size 432x288 with 1 Axes>"
      ]
     },
     "metadata": {
      "tags": []
     },
     "output_type": "display_data"
    }
   ],
   "source": [
    "import matplotlib.pyplot as plt\n",
    "import networkx as nx\n",
    "nx.draw(test1.G)\n"
   ]
  },
  {
   "cell_type": "code",
   "execution_count": 0,
   "metadata": {
    "colab": {
     "base_uri": "https://localhost:8080/",
     "height": 228
    },
    "colab_type": "code",
    "executionInfo": {
     "elapsed": 343,
     "status": "ok",
     "timestamp": 1591118704592,
     "user": {
      "displayName": "Barney Ales",
      "photoUrl": "https://lh3.googleusercontent.com/a-/AOh14Gg86EIDEUXFuwIBLZfymbGYfGk1mnezArvKefKW=s64",
      "userId": "06512472277656029571"
     },
     "user_tz": 240
    },
    "id": "ZzkQJnwWDoWo",
    "outputId": "9f2736e4-63aa-4040-f23b-8f2670c7c64e"
   },
   "outputs": [
    {
     "data": {
      "text/plain": [
       "array([[0.        , 0.2526012 , 0.38270919, ..., 0.        , 0.44103134,\n",
       "        0.        ],\n",
       "       [0.2526012 , 0.        , 0.07984948, ..., 0.25331401, 0.15324322,\n",
       "        0.        ],\n",
       "       [0.38270919, 0.07984948, 0.        , ..., 0.04359263, 0.23433881,\n",
       "        0.        ],\n",
       "       ...,\n",
       "       [0.        , 0.25331401, 0.04359263, ..., 0.        , 0.        ,\n",
       "        0.        ],\n",
       "       [0.44103134, 0.15324322, 0.23433881, ..., 0.        , 0.        ,\n",
       "        0.        ],\n",
       "       [0.        , 0.        , 0.        , ..., 0.        , 0.        ,\n",
       "        0.        ]])"
      ]
     },
     "execution_count": 98,
     "metadata": {
      "tags": []
     },
     "output_type": "execute_result"
    }
   ],
   "source": [
    "sputnik_discursive_community.A"
   ]
  },
  {
   "cell_type": "markdown",
   "metadata": {
    "colab_type": "text",
    "id": "eap46oL0DAfb"
   },
   "source": []
  },
  {
   "cell_type": "code",
   "execution_count": 0,
   "metadata": {
    "colab": {},
    "colab_type": "code",
    "id": "6-JY0YQJihCM"
   },
   "outputs": [],
   "source": [
    "gpt_df['QDA_object'].to_list()"
   ]
  },
  {
   "cell_type": "code",
   "execution_count": 0,
   "metadata": {
    "colab": {
     "base_uri": "https://localhost:8080/",
     "height": 33
    },
    "colab_type": "code",
    "executionInfo": {
     "elapsed": 353,
     "status": "ok",
     "timestamp": 1591113892830,
     "user": {
      "displayName": "Barney Ales",
      "photoUrl": "https://lh3.googleusercontent.com/a-/AOh14Gg86EIDEUXFuwIBLZfymbGYfGk1mnezArvKefKW=s64",
      "userId": "06512472277656029571"
     },
     "user_tz": 240
    },
    "id": "Bi9J_2JbusDK",
    "outputId": "6d3f8c20-b79c-4f43-9fed-9b72e29ad910"
   },
   "outputs": [
    {
     "data": {
      "text/plain": [
       "0.12274007202687867"
      ]
     },
     "execution_count": 20,
     "metadata": {
      "tags": []
     },
     "output_type": "execute_result"
    }
   ],
   "source": [
    "QDA.resonate(qda1, qda2)\n"
   ]
  },
  {
   "cell_type": "code",
   "execution_count": 0,
   "metadata": {
    "colab": {
     "base_uri": "https://localhost:8080/",
     "height": 33
    },
    "colab_type": "code",
    "executionInfo": {
     "elapsed": 323,
     "status": "ok",
     "timestamp": 1591113660588,
     "user": {
      "displayName": "Barney Ales",
      "photoUrl": "https://lh3.googleusercontent.com/a-/AOh14Gg86EIDEUXFuwIBLZfymbGYfGk1mnezArvKefKW=s64",
      "userId": "06512472277656029571"
     },
     "user_tz": 240
    },
    "id": "q8Vt6q5Iw62o",
    "outputId": "bc8ab796-a473-42e7-e93d-6569e4d5e489"
   },
   "outputs": [
    {
     "data": {
      "text/plain": [
       "<networkx.classes.multigraph.MultiGraph at 0x7f73317b7be0>"
      ]
     },
     "execution_count": 19,
     "metadata": {
      "tags": []
     },
     "output_type": "execute_result"
    }
   ],
   "source": []
  },
  {
   "cell_type": "markdown",
   "metadata": {
    "colab_type": "text",
    "id": "mAAQaub57Juu"
   },
   "source": [
    "# NOTES SECTION AND IDEAS\n",
    "This is just scratching the surface on the possiblities of data anaylsis in this way.  With additional time one could compare the Varience both the Markovify and GPT-2 models word frequency data vs the source data.  Even better we could use quantitative discursive analyses and centering resonance analysis theory to further explore the data."
   ]
  },
  {
   "cell_type": "markdown",
   "metadata": {
    "colab_type": "text",
    "id": "1qBIvBB5sI3l"
   },
   "source": [
    "## Create a pandas dataframe and perform basic analysis\n",
    "Now we want to create a pandas dataframe and store all of our data analysis work to it"
   ]
  },
  {
   "cell_type": "code",
   "execution_count": 0,
   "metadata": {
    "colab": {
     "base_uri": "https://localhost:8080/",
     "height": 272
    },
    "colab_type": "code",
    "executionInfo": {
     "elapsed": 1516,
     "status": "ok",
     "timestamp": 1581634261237,
     "user": {
      "displayName": "Barney Ales",
      "photoUrl": "https://lh3.googleusercontent.com/a-/AAuE7mDMQ8dxB0YgPuHrb8rHWGEB249MalarcY7DpcE2=s64",
      "userId": "06512472277656029571"
     },
     "user_tz": 300
    },
    "id": "vGDJ5B4zT3A1",
    "outputId": "04922c2c-535b-46cc-de1c-ac455b61c5f4"
   },
   "outputs": [
    {
     "name": "stdout",
     "output_type": "stream",
     "text": [
      "----Sputnik text data----\n",
      "Total words:    1792275\n",
      "Total stops:     79819\n",
      "Mean sentance length:     22.454240218494345 \n",
      "\n",
      "----Markovify text data----\n",
      "Total words:    327500\n",
      "Total stops:     13606\n",
      "Mean sentance length:     24.07026311921211 \n",
      "\n",
      "----GPT-2 finetuned text data----\n",
      "Total words:    301760\n",
      "Total stops:     13548\n",
      "Mean sentance length:     22.27339828757012 \n",
      "\n"
     ]
    }
   ],
   "source": [
    "#print the basic stats of the Sputnik text data\n",
    "print('----Sputnik text data----') \n",
    "print('Total words:   ', len(sputnik_text_data.split()))\n",
    "print('Total stops:    ', sputnik_text_data.count('.'))\n",
    "print('Mean sentance length:    ', len(sputnik_text_data.split())/sputnik_text_data.count('.'), \"\\n\")\n",
    "\n",
    "print('----Markovify text data----')\n",
    "ttl_words = 0 #re-initialize variables to 0, this one is to count the total # of words in a text corpus\n",
    "ttl_stops = 0 #re-initialize variables to 0, this one is to count the total # of words in a text corpus\n",
    "markovify_alltext_string = ''\n",
    "for n in markovify_text_data:\n",
    "   markovify_alltext_string += n + \" \" # Build a single variable as one long text string\n",
    "   ttl_words += len(n.split())\n",
    "   ttl_stops += n.count('.')\n",
    "print('Total words:   ', ttl_words)\n",
    "print('Total stops:    ', ttl_stops)\n",
    "print('Mean sentance length:    ', ttl_words/ttl_stops, \"\\n\")\n",
    "\n",
    "print('----GPT-2 finetuned text data----')\n",
    "ttl_words = 0 #initialize variables to 0, this one is to count the total # of words in a text corpus\n",
    "ttl_stops = 0 #initialize variables to 0, this one is to count the total # of words in a text corpus\n",
    "gpt_alltext_string = ''\n",
    "for n in gpt_text_data:\n",
    "   gpt_alltext_string += n + \" \" # Build a single variable as one long text string\n",
    "   ttl_words += len(n.split())\n",
    "   ttl_stops += n.count('.')\n",
    "print('Total words:   ', ttl_words)\n",
    "print('Total stops:    ', ttl_stops)\n",
    "print('Mean sentance length:    ', ttl_words/ttl_stops, \"\\n\")\n",
    "\n"
   ]
  },
  {
   "cell_type": "markdown",
   "metadata": {
    "colab_type": "text",
    "id": "gRRN_TOqFirp"
   },
   "source": [
    "OK, the above analysis is neat, but that is circa 1990's formating.  Turn this thing into a dataframe and lets have some fun with pandas!\n",
    "![Pandas love data science!](https://miro.medium.com/max/666/1*DadyHI0auADUxl5-ft4uSQ.jpeg)"
   ]
  },
  {
   "cell_type": "code",
   "execution_count": 0,
   "metadata": {
    "colab": {
     "base_uri": "https://localhost:8080/",
     "height": 244
    },
    "colab_type": "code",
    "executionInfo": {
     "elapsed": 2016,
     "status": "ok",
     "timestamp": 1581634276152,
     "user": {
      "displayName": "Barney Ales",
      "photoUrl": "https://lh3.googleusercontent.com/a-/AAuE7mDMQ8dxB0YgPuHrb8rHWGEB249MalarcY7DpcE2=s64",
      "userId": "06512472277656029571"
     },
     "user_tz": 300
    },
    "id": "ZJPNaiKgCZvm",
    "outputId": "09be5235-1010-438d-96f4-233207211701"
   },
   "outputs": [
    {
     "data": {
      "text/html": [
       "<div>\n",
       "<style scoped>\n",
       "    .dataframe tbody tr th:only-of-type {\n",
       "        vertical-align: middle;\n",
       "    }\n",
       "\n",
       "    .dataframe tbody tr th {\n",
       "        vertical-align: top;\n",
       "    }\n",
       "\n",
       "    .dataframe thead th {\n",
       "        text-align: right;\n",
       "    }\n",
       "</style>\n",
       "<table border=\"1\" class=\"dataframe\">\n",
       "  <thead>\n",
       "    <tr style=\"text-align: right;\">\n",
       "      <th></th>\n",
       "      <th>Text_Data_str</th>\n",
       "      <th>Sentance_count</th>\n",
       "      <th>word_count</th>\n",
       "      <th>Text_clean</th>\n",
       "      <th>word_count_fixed</th>\n",
       "    </tr>\n",
       "  </thead>\n",
       "  <tbody>\n",
       "    <tr>\n",
       "      <th>Sputnik_News_Training_Dataset</th>\n",
       "      <td>Scientists at the National Research Nuclear Un...</td>\n",
       "      <td>79819</td>\n",
       "      <td>1792275</td>\n",
       "      <td>scientists at the national research nuclear un...</td>\n",
       "      <td>1777812</td>\n",
       "    </tr>\n",
       "    <tr>\n",
       "      <th>Markovify_Model_Generated_Text</th>\n",
       "      <td>Banking services across India and China. The f...</td>\n",
       "      <td>13606</td>\n",
       "      <td>327500</td>\n",
       "      <td>banking services across india and china the fi...</td>\n",
       "      <td>326274</td>\n",
       "    </tr>\n",
       "    <tr>\n",
       "      <th>GPT_Model_Generated_Text</th>\n",
       "      <td>Rabat Kaur, a resident of the Indian city of H...</td>\n",
       "      <td>13548</td>\n",
       "      <td>301760</td>\n",
       "      <td>rabat kaur a resident of the indian city of hy...</td>\n",
       "      <td>299840</td>\n",
       "    </tr>\n",
       "  </tbody>\n",
       "</table>\n",
       "</div>"
      ],
      "text/plain": [
       "                                                                    Text_Data_str  ...  word_count_fixed\n",
       "Sputnik_News_Training_Dataset   Scientists at the National Research Nuclear Un...  ...           1777812\n",
       "Markovify_Model_Generated_Text  Banking services across India and China. The f...  ...            326274\n",
       "GPT_Model_Generated_Text        Rabat Kaur, a resident of the Indian city of H...  ...            299840\n",
       "\n",
       "[3 rows x 5 columns]"
      ]
     },
     "execution_count": 13,
     "metadata": {
      "tags": []
     },
     "output_type": "execute_result"
    }
   ],
   "source": [
    "d = {'Text_Data_str': [sputnik_text_data, markovify_alltext_string, gpt_alltext_string]} #create a dictinary with all the text data\n",
    "df = pd.DataFrame(data=d, index=['Sputnik_News_Training_Dataset', 'Markovify_Model_Generated_Text', 'GPT_Model_Generated_Text'])\n",
    "df['Sentance_count'] = df['Text_Data_str'].apply(lambda x : x.count('.')) #approximate sentance count\n",
    "df['word_count'] = df['Text_Data_str'].apply(lambda x : len(x.split())) #approximate word count, not perfect due to special characters and emojis\n",
    "df['Text_clean'] = df['Text_Data_str'].apply(lambda x : x.lower()) #make the text lowercase\n",
    "df['Text_clean'] = df['Text_clean'].str.replace('[^\\w\\s]','') #clean the data to remove all special characters and punctuation\n",
    "df['word_count_fixed'] = df['Text_clean'].apply(lambda x : len(x.split())) #more accurate word count after all special chars have been removed\n",
    "df\n"
   ]
  },
  {
   "cell_type": "markdown",
   "metadata": {
    "colab_type": "text",
    "id": "LK9VojAFratv"
   },
   "source": [
    "Remove the stop words from the text and then make some more graphs. \n",
    "* [ ] create calculate columns that are the difference between both the markovify and GPT-2 text compared to the source text \n",
    "to"
   ]
  },
  {
   "cell_type": "code",
   "execution_count": 0,
   "metadata": {
    "colab": {
     "base_uri": "https://localhost:8080/",
     "height": 439
    },
    "colab_type": "code",
    "executionInfo": {
     "elapsed": 544,
     "status": "ok",
     "timestamp": 1581635435814,
     "user": {
      "displayName": "Barney Ales",
      "photoUrl": "https://lh3.googleusercontent.com/a-/AAuE7mDMQ8dxB0YgPuHrb8rHWGEB249MalarcY7DpcE2=s64",
      "userId": "06512472277656029571"
     },
     "user_tz": 300
    },
    "id": "f7ce_PLnsI26",
    "outputId": "563fd85a-9a81-477c-ee58-4977d9fabac3"
   },
   "outputs": [
    {
     "data": {
      "text/html": [
       "<div>\n",
       "<style scoped>\n",
       "    .dataframe tbody tr th:only-of-type {\n",
       "        vertical-align: middle;\n",
       "    }\n",
       "\n",
       "    .dataframe tbody tr th {\n",
       "        vertical-align: top;\n",
       "    }\n",
       "\n",
       "    .dataframe thead th {\n",
       "        text-align: right;\n",
       "    }\n",
       "</style>\n",
       "<table border=\"1\" class=\"dataframe\">\n",
       "  <thead>\n",
       "    <tr style=\"text-align: right;\">\n",
       "      <th></th>\n",
       "      <th>Sputnik_News_Training_Dataset</th>\n",
       "      <th>Markovify_Model_Generated_Text</th>\n",
       "      <th>GPT_Model_Generated_Text</th>\n",
       "      <th>Total</th>\n",
       "      <th>Sputnik_word_freq</th>\n",
       "      <th>Markovify_Model_word_freq</th>\n",
       "      <th>GPT_Model_word_freq</th>\n",
       "    </tr>\n",
       "  </thead>\n",
       "  <tbody>\n",
       "    <tr>\n",
       "      <th>bonehoffman</th>\n",
       "      <td>1.0</td>\n",
       "      <td>0.0</td>\n",
       "      <td>0.0</td>\n",
       "      <td>1.0</td>\n",
       "      <td>5.624892e-07</td>\n",
       "      <td>0.000000</td>\n",
       "      <td>0.000000</td>\n",
       "    </tr>\n",
       "    <tr>\n",
       "      <th>collapsible</th>\n",
       "      <td>1.0</td>\n",
       "      <td>0.0</td>\n",
       "      <td>0.0</td>\n",
       "      <td>1.0</td>\n",
       "      <td>5.624892e-07</td>\n",
       "      <td>0.000000</td>\n",
       "      <td>0.000000</td>\n",
       "    </tr>\n",
       "    <tr>\n",
       "      <th>goldenpup</th>\n",
       "      <td>2.0</td>\n",
       "      <td>0.0</td>\n",
       "      <td>0.0</td>\n",
       "      <td>2.0</td>\n",
       "      <td>1.124978e-06</td>\n",
       "      <td>0.000000</td>\n",
       "      <td>0.000000</td>\n",
       "    </tr>\n",
       "    <tr>\n",
       "      <th>awestruck</th>\n",
       "      <td>1.0</td>\n",
       "      <td>0.0</td>\n",
       "      <td>0.0</td>\n",
       "      <td>1.0</td>\n",
       "      <td>5.624892e-07</td>\n",
       "      <td>0.000000</td>\n",
       "      <td>0.000000</td>\n",
       "    </tr>\n",
       "    <tr>\n",
       "      <th>emphasised</th>\n",
       "      <td>76.0</td>\n",
       "      <td>15.0</td>\n",
       "      <td>5.0</td>\n",
       "      <td>96.0</td>\n",
       "      <td>4.274918e-05</td>\n",
       "      <td>0.000046</td>\n",
       "      <td>0.000017</td>\n",
       "    </tr>\n",
       "    <tr>\n",
       "      <th>...</th>\n",
       "      <td>...</td>\n",
       "      <td>...</td>\n",
       "      <td>...</td>\n",
       "      <td>...</td>\n",
       "      <td>...</td>\n",
       "      <td>...</td>\n",
       "      <td>...</td>\n",
       "    </tr>\n",
       "    <tr>\n",
       "      <th>thomasbrake</th>\n",
       "      <td>1.0</td>\n",
       "      <td>0.0</td>\n",
       "      <td>0.0</td>\n",
       "      <td>1.0</td>\n",
       "      <td>5.624892e-07</td>\n",
       "      <td>0.000000</td>\n",
       "      <td>0.000000</td>\n",
       "    </tr>\n",
       "    <tr>\n",
       "      <th>chaosend</th>\n",
       "      <td>1.0</td>\n",
       "      <td>0.0</td>\n",
       "      <td>0.0</td>\n",
       "      <td>1.0</td>\n",
       "      <td>5.624892e-07</td>\n",
       "      <td>0.000000</td>\n",
       "      <td>0.000000</td>\n",
       "    </tr>\n",
       "    <tr>\n",
       "      <th>stipulate</th>\n",
       "      <td>3.0</td>\n",
       "      <td>0.0</td>\n",
       "      <td>0.0</td>\n",
       "      <td>3.0</td>\n",
       "      <td>1.687468e-06</td>\n",
       "      <td>0.000000</td>\n",
       "      <td>0.000000</td>\n",
       "    </tr>\n",
       "    <tr>\n",
       "      <th>cannaregio</th>\n",
       "      <td>1.0</td>\n",
       "      <td>0.0</td>\n",
       "      <td>0.0</td>\n",
       "      <td>1.0</td>\n",
       "      <td>5.624892e-07</td>\n",
       "      <td>0.000000</td>\n",
       "      <td>0.000000</td>\n",
       "    </tr>\n",
       "    <tr>\n",
       "      <th>SUM</th>\n",
       "      <td>1068550.0</td>\n",
       "      <td>189911.0</td>\n",
       "      <td>164140.0</td>\n",
       "      <td>1422601.0</td>\n",
       "      <td>6.010478e-01</td>\n",
       "      <td>0.582060</td>\n",
       "      <td>0.547425</td>\n",
       "    </tr>\n",
       "  </tbody>\n",
       "</table>\n",
       "<p>73259 rows × 7 columns</p>\n",
       "</div>"
      ],
      "text/plain": [
       "             Sputnik_News_Training_Dataset  ...  GPT_Model_word_freq\n",
       "bonehoffman                            1.0  ...             0.000000\n",
       "collapsible                            1.0  ...             0.000000\n",
       "goldenpup                              2.0  ...             0.000000\n",
       "awestruck                              1.0  ...             0.000000\n",
       "emphasised                            76.0  ...             0.000017\n",
       "...                                    ...  ...                  ...\n",
       "thomasbrake                            1.0  ...             0.000000\n",
       "chaosend                               1.0  ...             0.000000\n",
       "stipulate                              3.0  ...             0.000000\n",
       "cannaregio                             1.0  ...             0.000000\n",
       "SUM                              1068550.0  ...             0.547425\n",
       "\n",
       "[73259 rows x 7 columns]"
      ]
     },
     "execution_count": 36,
     "metadata": {
      "tags": []
     },
     "output_type": "execute_result"
    }
   ],
   "source": [
    "non_stop_words = set(wordfreq_df.index.values) - set(stopwords.words('english')) #set of the words that aren't stop words in the dataset\n",
    "wordfreq_ns_df = wordfreq_df.filter(non_stop_words, axis=\"index\") #remove all the stopwords\n",
    "wordfreq_ns_df.nlargest(30, 'Sputnik_word_freq', keep='all')\n",
    "totals_row = wordfreq_ns_df.sum(numeric_only=True)\n",
    "totals_row.name = 'SUM'\n",
    "wordfreq_ns_df.append(totals_row)"
   ]
  },
  {
   "cell_type": "code",
   "execution_count": 0,
   "metadata": {
    "colab": {
     "base_uri": "https://localhost:8080/",
     "height": 542
    },
    "colab_type": "code",
    "executionInfo": {
     "elapsed": 908,
     "status": "ok",
     "timestamp": 1581636027349,
     "user": {
      "displayName": "Barney Ales",
      "photoUrl": "https://lh3.googleusercontent.com/a-/AAuE7mDMQ8dxB0YgPuHrb8rHWGEB249MalarcY7DpcE2=s64",
      "userId": "06512472277656029571"
     },
     "user_tz": 300
    },
    "id": "t0dJUAXsrW0a",
    "outputId": "b3d70b73-c737-4ad1-c565-063c0bf070d7"
   },
   "outputs": [
    {
     "data": {
      "text/html": [
       "<html>\n",
       "<head><meta charset=\"utf-8\" /></head>\n",
       "<body>\n",
       "    <div>\n",
       "            <script src=\"https://cdnjs.cloudflare.com/ajax/libs/mathjax/2.7.5/MathJax.js?config=TeX-AMS-MML_SVG\"></script><script type=\"text/javascript\">if (window.MathJax) {MathJax.Hub.Config({SVG: {font: \"STIX-Web\"}});}</script>\n",
       "                <script type=\"text/javascript\">window.PlotlyConfig = {MathJaxConfig: 'local'};</script>\n",
       "        <script src=\"https://cdn.plot.ly/plotly-latest.min.js\"></script>    \n",
       "            <div id=\"3285f456-232e-44c9-a4d0-1a2dfa36c644\" class=\"plotly-graph-div\" style=\"height:525px; width:100%;\"></div>\n",
       "            <script type=\"text/javascript\">\n",
       "                \n",
       "                    window.PLOTLYENV=window.PLOTLYENV || {};\n",
       "                    \n",
       "                if (document.getElementById(\"3285f456-232e-44c9-a4d0-1a2dfa36c644\")) {\n",
       "                    Plotly.newPlot(\n",
       "                        '3285f456-232e-44c9-a4d0-1a2dfa36c644',\n",
       "                        [{\"name\": \"Source Data\", \"type\": \"bar\", \"x\": [\"said\", \"us\", \"2019\", \"text\", \"president\", \"october\", \"also\", \"trump\", \"new\", \"would\", \"people\", \"one\", \"according\", \"november\", \"government\", \"sputnik\", \"two\", \"minister\", \"time\", \"russian\", \"first\", \"syria\", \"military\", \"media\", \"party\", \"country\", \"state\", \"house\", \"states\", \"years\", \"deal\", \"could\", \"russia\", \"india\", \"police\", \"last\", \"former\", \"united\", \"like\", \"brexit\", \"reported\", \"election\", \"earlier\", \"however\", \"since\", \"security\", \"forces\", \"donald\", \"including\", \"year\", \"political\", \"well\", \"uk\", \"told\", \"indian\", \"may\", \"national\", \"many\", \"countries\", \"made\", \"prime\", \"news\", \"even\", \"foreign\", \"world\", \"turkey\", \"another\", \"china\", \"part\", \"back\", \"international\", \"group\", \"get\", \"statement\", \"think\", \"public\", \"take\", \"several\", \"general\", \"report\", \"day\", \"announced\", \"week\", \"saying\", \"trade\", \"washington\", \"daesh\", \"turkish\", \"going\", \"eu\"], \"y\": [0.004222606214830365, 0.004142732752394516, 0.0033349983012827002, 0.0024766398246833746, 0.0024237658425075317, 0.0023990163189358603, 0.002132396451368311, 0.0020800849583645516, 0.0020114612793703723, 0.0019062758041907693, 0.001792652991429915, 0.0017814032079882462, 0.0015828445302427927, 0.0014748466092027728, 0.0013910357225623406, 0.0012414136027881462, 0.0011992269148818886, 0.0011862896639239695, 0.0011812272613752185, 0.0011649150753847988, 0.0010659169810981139, 0.0010355425658056083, 0.0010349800766335248, 0.0010181054014710216, 0.0009956058345876842, 0.000992793388727267, 0.0009759187135647639, 0.0009539816358535098, 0.0009511691899930926, 0.0009466692766164251, 0.0009314820689701723, 0.0009269821555935048, 0.0009252946880772545, 0.0008904203594080814, 0.0008881704027197476, 0.0008831080001709968, 0.0008825455109989133, 0.0008696082600409942, 0.0008651083466643268, 0.0008651083466643268, 0.0008426087797809892, 0.0008369838880601548, 0.0008296715288230701, 0.0008229216587580689, 0.0008184217453814014, 0.0008122343644884836, 0.0007931097326376467, 0.0007908597759493129, 0.0007891723084330627, 0.0007886098192609793, 0.000786922351744729, 0.0007807349708518111, 0.0007666727415497252, 0.0007582354039684736, 0.0007559854472801398, 0.0007464231313547214, 0.0007441731746663877, 0.0007441731746663877, 0.0007396732612897202, 0.0007385482829455533, 0.0007289859670201349, 0.0007166112052342992, 0.0007149237377180489, 0.0007087363568251311, 0.0006772369631884586, 0.0006732995389838746, 0.000659799798853872, 0.0006552998854772046, 0.0006547373963051212, 0.000651924950444704, 0.0006328003185938671, 0.0006305503619055333, 0.0006294253835613665, 0.000623800491840532, 0.0006204255568080314, 0.0006164881326034474, 0.0006119882192267799, 0.0006119882192267799, 0.0006074883058501124, 0.0005911761198596927, 0.0005906136306876093, 0.0005894886523434424, 0.0005889261631713589, 0.0005821762931063577, 0.0005821762931063577, 0.0005816138039342742, 0.0005771138905576068, 0.0005765514013855234, 0.0005636141504276042, 0.0005619266829113539]}, {\"name\": \"Markovify\", \"type\": \"bar\", \"x\": [\"said\", \"us\", \"2019\", \"text\", \"president\", \"october\", \"also\", \"trump\", \"new\", \"would\", \"people\", \"one\", \"according\", \"november\", \"government\", \"sputnik\", \"two\", \"minister\", \"time\", \"russian\", \"first\", \"syria\", \"military\", \"media\", \"party\", \"country\", \"state\", \"house\", \"states\", \"years\", \"deal\", \"could\", \"russia\", \"india\", \"police\", \"last\", \"former\", \"united\", \"like\", \"brexit\", \"reported\", \"election\", \"earlier\", \"however\", \"since\", \"security\", \"forces\", \"donald\", \"including\", \"year\", \"political\", \"well\", \"uk\", \"told\", \"indian\", \"may\", \"national\", \"many\", \"countries\", \"made\", \"prime\", \"news\", \"even\", \"foreign\", \"world\", \"turkey\", \"another\", \"china\", \"part\", \"back\", \"international\", \"group\", \"get\", \"statement\", \"think\", \"public\", \"take\", \"several\", \"general\", \"report\", \"day\", \"announced\", \"week\", \"saying\", \"trade\", \"washington\", \"daesh\", \"turkish\", \"going\", \"eu\"], \"y\": [0.003343815320865285, 0.004290872089103024, 0.0005976571838393497, 0.0017469979219919454, 0.0025500039843812257, 0.0011370811036123013, 0.0022159289431582046, 0.0019033082623806984, 0.0016826348406554, 0.0020504238768642305, 0.0019094380796508457, 0.0019615415264470967, 0.0018082960946934172, 0.0004781257470714798, 0.0015569735866173828, 0.0006497606306356008, 0.0012933914440010543, 0.0011462758295175221, 0.00128113180946076, 0.0011799898245033315, 0.001176924915868258, 0.0010757829309108295, 0.001057393479100388, 0.0009930303977638427, 0.0009746409459534011, 0.0010543285704653145, 0.0009470567682377389, 0.0009347971336974445, 0.0009347971336974445, 0.0010941723827212712, 0.001124821469072007, 0.0009930303977638427, 0.000916407681887003, 0.0006528255392706743, 0.0010390040272899464, 0.0009838356718586219, 0.0009838356718586219, 0.0007509026155930291, 0.0007294482551475141, 0.0009623813114131068, 0.0007110588033370725, 0.000901083138711635, 0.0007355780724176612, 0.0009838356718586219, 0.0009347971336974445, 0.0008428498746452368, 0.0007692920674034707, 0.0006344360874602328, 0.0007386429810527348, 0.0008857585955362671, 0.0007723569760385443, 0.0008888235041713407, 0.0007784867933086914, 0.0007570324328631763, 0.0006834746256214103, 0.0007846166105788386, 0.0006007220924744233, 0.0007907464278489858, 0.0008275253314698689, 0.0007141237119721462, 0.0006436308133654536, 0.0006466957220005272, 0.0007662271587683972, 0.000692669351526631, 0.0006650851738109687, 0.0006037870011094969, 0.00064056590473038, 0.000692669351526631, 0.0006681500824460422, 0.0007478377069579556, 0.0005486186456781723, 0.0005302291938677308, 0.0007018640774318518, 0.0004934502902468477, 0.0006681500824460422, 0.0005731379147587611, 0.0007263833465124404, 0.0007171886206072197, 0.0006160466356497912, 0.0006344360874602328, 0.0005516835543132459, 0.0006129817270147177, 0.0006987991687967782, 0.0005118397420572892, 0.0006068519097445705, 0.0005332941025028044, 0.00041376266573493444, 0.0006099168183796441, 0.0006436308133654536, 0.0006375009960953064]}, {\"name\": \"GPT-2\", \"type\": \"bar\", \"x\": [\"said\", \"us\", \"2019\", \"text\", \"president\", \"october\", \"also\", \"trump\", \"new\", \"would\", \"people\", \"one\", \"according\", \"november\", \"government\", \"sputnik\", \"two\", \"minister\", \"time\", \"russian\", \"first\", \"syria\", \"military\", \"media\", \"party\", \"country\", \"state\", \"house\", \"states\", \"years\", \"deal\", \"could\", \"russia\", \"india\", \"police\", \"last\", \"former\", \"united\", \"like\", \"brexit\", \"reported\", \"election\", \"earlier\", \"however\", \"since\", \"security\", \"forces\", \"donald\", \"including\", \"year\", \"political\", \"well\", \"uk\", \"told\", \"indian\", \"may\", \"national\", \"many\", \"countries\", \"made\", \"prime\", \"news\", \"even\", \"foreign\", \"world\", \"turkey\", \"another\", \"china\", \"part\", \"back\", \"international\", \"group\", \"get\", \"statement\", \"think\", \"public\", \"take\", \"several\", \"general\", \"report\", \"day\", \"announced\", \"week\", \"saying\", \"trade\", \"washington\", \"daesh\", \"turkish\", \"going\", \"eu\"], \"y\": [0.007887540021344718, 0.009941969050160085, 0.0014707844183564568, 2.3345784418356456e-05, 0.003975453575240128, 0.001617529348986126, 0.003171691568836713, 0.0036252668089647813, 0.0023645944503735325, 0.003235058697972252, 0.0018243062966915688, 0.0010405549626467448, 0.0023345784418356457, 0.0006403415154749199, 0.00344517075773746, 0.001090581643543223, 0.0011906350053361792, 0.0014941302027748132, 0.0008271077908217716, 0.001424092849519744, 0.0015208110992529348, 0.0018042956243329775, 0.002084445037353255, 0.0005336179295624333, 0.0010839114194236927, 0.0016775613660618997, 0.0018976787620064034, 0.0018343116328708644, 0.002001067235859125, 0.0010839114194236927, 0.0015908484525080043, 0.0008671291355389541, 0.000610325506937033, 0.0008838046958377802, 0.0017109124866595518, 0.0005969850586979722, 0.0009405016008537887, 0.0020410885805763074, 0.0005236125933831377, 0.0018009605122732125, 0.0007970917822838847, 0.001027214514407684, 0.00096051227321238, 0.0004068836712913554, 0.001170624332977588, 0.0008938100320170758, 0.0010038687299893277, 0.001487459978655283, 0.00096051227321238, 0.0008904749199573106, 0.0004935965848452508, 0.0007904215581643543, 0.002257870864461046, 0.0008337780149413021, 0.001727588046958378, 0.0005302828175026681, 0.0009738527214514408, 0.00040021344717182497, 0.0006003201707577375, 0.0007504002134471719, 0.0011439434364994665, 0.0005569637139807898, 0.00029682497331910354, 0.0006003201707577375, 0.0009338313767342582, 0.0006470117395944504, 0.0002501334044823906, 0.0009304962646744931, 0.0006970384204909285, 0.0003601921024546425, 0.00038687299893276416, 0.0007804162219850587, 0.0010939167556029883, 0.0009838580576307363, 0.0011105923159018143, 0.0004635805763073639, 0.0008237726787620064, 0.0003435165421558164, 0.0009238260405549627, 0.000980522945570971, 0.0005803094983991462, 0.00144076840981857, 0.0008704642475987194, 0.0007804162219850587, 0.0010605656350053361, 0.0005469583778014941, 0.0009371664887940235, 0.000657017075773746, 0.0015675026680896478, 0.001107257203842049]}],\n",
       "                        {\"barmode\": \"group\", \"template\": {\"data\": {\"bar\": [{\"error_x\": {\"color\": \"#2a3f5f\"}, \"error_y\": {\"color\": \"#2a3f5f\"}, \"marker\": {\"line\": {\"color\": \"#E5ECF6\", \"width\": 0.5}}, \"type\": \"bar\"}], \"barpolar\": [{\"marker\": {\"line\": {\"color\": \"#E5ECF6\", \"width\": 0.5}}, \"type\": \"barpolar\"}], \"carpet\": [{\"aaxis\": {\"endlinecolor\": \"#2a3f5f\", \"gridcolor\": \"white\", \"linecolor\": \"white\", \"minorgridcolor\": \"white\", \"startlinecolor\": \"#2a3f5f\"}, \"baxis\": {\"endlinecolor\": \"#2a3f5f\", \"gridcolor\": \"white\", \"linecolor\": \"white\", \"minorgridcolor\": \"white\", \"startlinecolor\": \"#2a3f5f\"}, \"type\": \"carpet\"}], \"choropleth\": [{\"colorbar\": {\"outlinewidth\": 0, \"ticks\": \"\"}, \"type\": \"choropleth\"}], \"contour\": [{\"colorbar\": {\"outlinewidth\": 0, \"ticks\": \"\"}, \"colorscale\": [[0.0, \"#0d0887\"], [0.1111111111111111, \"#46039f\"], [0.2222222222222222, \"#7201a8\"], [0.3333333333333333, \"#9c179e\"], [0.4444444444444444, \"#bd3786\"], [0.5555555555555556, \"#d8576b\"], [0.6666666666666666, \"#ed7953\"], [0.7777777777777778, \"#fb9f3a\"], [0.8888888888888888, \"#fdca26\"], [1.0, \"#f0f921\"]], \"type\": \"contour\"}], \"contourcarpet\": [{\"colorbar\": {\"outlinewidth\": 0, \"ticks\": \"\"}, \"type\": \"contourcarpet\"}], \"heatmap\": [{\"colorbar\": {\"outlinewidth\": 0, \"ticks\": \"\"}, \"colorscale\": [[0.0, \"#0d0887\"], [0.1111111111111111, \"#46039f\"], [0.2222222222222222, \"#7201a8\"], [0.3333333333333333, \"#9c179e\"], [0.4444444444444444, \"#bd3786\"], [0.5555555555555556, \"#d8576b\"], [0.6666666666666666, \"#ed7953\"], [0.7777777777777778, \"#fb9f3a\"], [0.8888888888888888, \"#fdca26\"], [1.0, \"#f0f921\"]], \"type\": \"heatmap\"}], \"heatmapgl\": [{\"colorbar\": {\"outlinewidth\": 0, \"ticks\": \"\"}, \"colorscale\": [[0.0, \"#0d0887\"], [0.1111111111111111, \"#46039f\"], [0.2222222222222222, \"#7201a8\"], [0.3333333333333333, \"#9c179e\"], [0.4444444444444444, \"#bd3786\"], [0.5555555555555556, \"#d8576b\"], [0.6666666666666666, \"#ed7953\"], [0.7777777777777778, \"#fb9f3a\"], [0.8888888888888888, \"#fdca26\"], [1.0, \"#f0f921\"]], \"type\": \"heatmapgl\"}], \"histogram\": [{\"marker\": {\"colorbar\": {\"outlinewidth\": 0, \"ticks\": \"\"}}, \"type\": \"histogram\"}], \"histogram2d\": [{\"colorbar\": {\"outlinewidth\": 0, \"ticks\": \"\"}, \"colorscale\": [[0.0, \"#0d0887\"], [0.1111111111111111, \"#46039f\"], [0.2222222222222222, \"#7201a8\"], [0.3333333333333333, \"#9c179e\"], [0.4444444444444444, \"#bd3786\"], [0.5555555555555556, \"#d8576b\"], [0.6666666666666666, \"#ed7953\"], [0.7777777777777778, \"#fb9f3a\"], [0.8888888888888888, \"#fdca26\"], [1.0, \"#f0f921\"]], \"type\": \"histogram2d\"}], \"histogram2dcontour\": [{\"colorbar\": {\"outlinewidth\": 0, \"ticks\": \"\"}, \"colorscale\": [[0.0, \"#0d0887\"], [0.1111111111111111, \"#46039f\"], [0.2222222222222222, \"#7201a8\"], [0.3333333333333333, \"#9c179e\"], [0.4444444444444444, \"#bd3786\"], [0.5555555555555556, \"#d8576b\"], [0.6666666666666666, \"#ed7953\"], [0.7777777777777778, \"#fb9f3a\"], [0.8888888888888888, \"#fdca26\"], [1.0, \"#f0f921\"]], \"type\": \"histogram2dcontour\"}], \"mesh3d\": [{\"colorbar\": {\"outlinewidth\": 0, \"ticks\": \"\"}, \"type\": \"mesh3d\"}], \"parcoords\": [{\"line\": {\"colorbar\": {\"outlinewidth\": 0, \"ticks\": \"\"}}, \"type\": \"parcoords\"}], \"pie\": [{\"automargin\": true, \"type\": \"pie\"}], \"scatter\": [{\"marker\": {\"colorbar\": {\"outlinewidth\": 0, \"ticks\": \"\"}}, \"type\": \"scatter\"}], \"scatter3d\": [{\"line\": {\"colorbar\": {\"outlinewidth\": 0, \"ticks\": \"\"}}, \"marker\": {\"colorbar\": {\"outlinewidth\": 0, \"ticks\": \"\"}}, \"type\": \"scatter3d\"}], \"scattercarpet\": [{\"marker\": {\"colorbar\": {\"outlinewidth\": 0, \"ticks\": \"\"}}, \"type\": \"scattercarpet\"}], \"scattergeo\": [{\"marker\": {\"colorbar\": {\"outlinewidth\": 0, \"ticks\": \"\"}}, \"type\": \"scattergeo\"}], \"scattergl\": [{\"marker\": {\"colorbar\": {\"outlinewidth\": 0, \"ticks\": \"\"}}, \"type\": \"scattergl\"}], \"scattermapbox\": [{\"marker\": {\"colorbar\": {\"outlinewidth\": 0, \"ticks\": \"\"}}, \"type\": \"scattermapbox\"}], \"scatterpolar\": [{\"marker\": {\"colorbar\": {\"outlinewidth\": 0, \"ticks\": \"\"}}, \"type\": \"scatterpolar\"}], \"scatterpolargl\": [{\"marker\": {\"colorbar\": {\"outlinewidth\": 0, \"ticks\": \"\"}}, \"type\": \"scatterpolargl\"}], \"scatterternary\": [{\"marker\": {\"colorbar\": {\"outlinewidth\": 0, \"ticks\": \"\"}}, \"type\": \"scatterternary\"}], \"surface\": [{\"colorbar\": {\"outlinewidth\": 0, \"ticks\": \"\"}, \"colorscale\": [[0.0, \"#0d0887\"], [0.1111111111111111, \"#46039f\"], [0.2222222222222222, \"#7201a8\"], [0.3333333333333333, \"#9c179e\"], [0.4444444444444444, \"#bd3786\"], [0.5555555555555556, \"#d8576b\"], [0.6666666666666666, \"#ed7953\"], [0.7777777777777778, \"#fb9f3a\"], [0.8888888888888888, \"#fdca26\"], [1.0, \"#f0f921\"]], \"type\": \"surface\"}], \"table\": [{\"cells\": {\"fill\": {\"color\": \"#EBF0F8\"}, \"line\": {\"color\": \"white\"}}, \"header\": {\"fill\": {\"color\": \"#C8D4E3\"}, \"line\": {\"color\": \"white\"}}, \"type\": \"table\"}]}, \"layout\": {\"annotationdefaults\": {\"arrowcolor\": \"#2a3f5f\", \"arrowhead\": 0, \"arrowwidth\": 1}, \"coloraxis\": {\"colorbar\": {\"outlinewidth\": 0, \"ticks\": \"\"}}, \"colorscale\": {\"diverging\": [[0, \"#8e0152\"], [0.1, \"#c51b7d\"], [0.2, \"#de77ae\"], [0.3, \"#f1b6da\"], [0.4, \"#fde0ef\"], [0.5, \"#f7f7f7\"], [0.6, \"#e6f5d0\"], [0.7, \"#b8e186\"], [0.8, \"#7fbc41\"], [0.9, \"#4d9221\"], [1, \"#276419\"]], \"sequential\": [[0.0, \"#0d0887\"], [0.1111111111111111, \"#46039f\"], [0.2222222222222222, \"#7201a8\"], [0.3333333333333333, \"#9c179e\"], [0.4444444444444444, \"#bd3786\"], [0.5555555555555556, \"#d8576b\"], [0.6666666666666666, \"#ed7953\"], [0.7777777777777778, \"#fb9f3a\"], [0.8888888888888888, \"#fdca26\"], [1.0, \"#f0f921\"]], \"sequentialminus\": [[0.0, \"#0d0887\"], [0.1111111111111111, \"#46039f\"], [0.2222222222222222, \"#7201a8\"], [0.3333333333333333, \"#9c179e\"], [0.4444444444444444, \"#bd3786\"], [0.5555555555555556, \"#d8576b\"], [0.6666666666666666, \"#ed7953\"], [0.7777777777777778, \"#fb9f3a\"], [0.8888888888888888, \"#fdca26\"], [1.0, \"#f0f921\"]]}, \"colorway\": [\"#636efa\", \"#EF553B\", \"#00cc96\", \"#ab63fa\", \"#FFA15A\", \"#19d3f3\", \"#FF6692\", \"#B6E880\", \"#FF97FF\", \"#FECB52\"], \"font\": {\"color\": \"#2a3f5f\"}, \"geo\": {\"bgcolor\": \"white\", \"lakecolor\": \"white\", \"landcolor\": \"#E5ECF6\", \"showlakes\": true, \"showland\": true, \"subunitcolor\": \"white\"}, \"hoverlabel\": {\"align\": \"left\"}, \"hovermode\": \"closest\", \"mapbox\": {\"style\": \"light\"}, \"paper_bgcolor\": \"white\", \"plot_bgcolor\": \"#E5ECF6\", \"polar\": {\"angularaxis\": {\"gridcolor\": \"white\", \"linecolor\": \"white\", \"ticks\": \"\"}, \"bgcolor\": \"#E5ECF6\", \"radialaxis\": {\"gridcolor\": \"white\", \"linecolor\": \"white\", \"ticks\": \"\"}}, \"scene\": {\"xaxis\": {\"backgroundcolor\": \"#E5ECF6\", \"gridcolor\": \"white\", \"gridwidth\": 2, \"linecolor\": \"white\", \"showbackground\": true, \"ticks\": \"\", \"zerolinecolor\": \"white\"}, \"yaxis\": {\"backgroundcolor\": \"#E5ECF6\", \"gridcolor\": \"white\", \"gridwidth\": 2, \"linecolor\": \"white\", \"showbackground\": true, \"ticks\": \"\", \"zerolinecolor\": \"white\"}, \"zaxis\": {\"backgroundcolor\": \"#E5ECF6\", \"gridcolor\": \"white\", \"gridwidth\": 2, \"linecolor\": \"white\", \"showbackground\": true, \"ticks\": \"\", \"zerolinecolor\": \"white\"}}, \"shapedefaults\": {\"line\": {\"color\": \"#2a3f5f\"}}, \"ternary\": {\"aaxis\": {\"gridcolor\": \"white\", \"linecolor\": \"white\", \"ticks\": \"\"}, \"baxis\": {\"gridcolor\": \"white\", \"linecolor\": \"white\", \"ticks\": \"\"}, \"bgcolor\": \"#E5ECF6\", \"caxis\": {\"gridcolor\": \"white\", \"linecolor\": \"white\", \"ticks\": \"\"}}, \"title\": {\"x\": 0.05}, \"xaxis\": {\"automargin\": true, \"gridcolor\": \"white\", \"linecolor\": \"white\", \"ticks\": \"\", \"title\": {\"standoff\": 15}, \"zerolinecolor\": \"white\", \"zerolinewidth\": 2}, \"yaxis\": {\"automargin\": true, \"gridcolor\": \"white\", \"linecolor\": \"white\", \"ticks\": \"\", \"title\": {\"standoff\": 15}, \"zerolinecolor\": \"white\", \"zerolinewidth\": 2}}}},\n",
       "                        {\"responsive\": true}\n",
       "                    ).then(function(){\n",
       "                            \n",
       "var gd = document.getElementById('3285f456-232e-44c9-a4d0-1a2dfa36c644');\n",
       "var x = new MutationObserver(function (mutations, observer) {{\n",
       "        var display = window.getComputedStyle(gd).display;\n",
       "        if (!display || display === 'none') {{\n",
       "            console.log([gd, 'removed!']);\n",
       "            Plotly.purge(gd);\n",
       "            observer.disconnect();\n",
       "        }}\n",
       "}});\n",
       "\n",
       "// Listen for the removal of the full notebook cells\n",
       "var notebookContainer = gd.closest('#notebook-container');\n",
       "if (notebookContainer) {{\n",
       "    x.observe(notebookContainer, {childList: true});\n",
       "}}\n",
       "\n",
       "// Listen for the clearing of the current output cell\n",
       "var outputEl = gd.closest('.output');\n",
       "if (outputEl) {{\n",
       "    x.observe(outputEl, {childList: true});\n",
       "}}\n",
       "\n",
       "                        })\n",
       "                };\n",
       "                \n",
       "            </script>\n",
       "        </div>\n",
       "</body>\n",
       "</html>"
      ]
     },
     "metadata": {
      "tags": []
     },
     "output_type": "display_data"
    }
   ],
   "source": [
    "\n",
    "\n",
    "x_axis = wordfreq_ns_df.nlargest(90, 'Sputnik_word_freq', keep='all').index.tolist()\n",
    "y_sputnik = wordfreq_ns_df.nlargest(90, 'Sputnik_word_freq', keep='all')['Sputnik_word_freq']\n",
    "y_markovify = wordfreq_ns_df.nlargest(90, 'Sputnik_word_freq', keep='all')['Markovify_Model_word_freq']\n",
    "y_gpt = wordfreq_ns_df.nlargest(90, 'Sputnik_word_freq', keep='all')['GPT_Model_word_freq']\n",
    "fig = go.Figure(data=[\n",
    "    go.Bar(name='Source Data', x=x_axis, y=y_sputnik),\n",
    "    go.Bar(name='Markovify', x=x_axis, y=y_markovify),\n",
    "    go.Bar(name='GPT-2', x=x_axis, y=y_gpt)\n",
    "])\n",
    "# Change the bar mode\n",
    "fig.update_layout(barmode='group')\n",
    "fig.show()"
   ]
  },
  {
   "cell_type": "code",
   "execution_count": 0,
   "metadata": {
    "colab": {},
    "colab_type": "code",
    "id": "pnE_RQ6O8LCA"
   },
   "outputs": [],
   "source": [
    "print(\"example Markovify content:\", markovify_text_data[70], \"\\n\\n\")\n",
    "print(\"example GPT-2 content:\", gpt_text_data[90])\n",
    "print(\"example training content:\", sputnik_text_data[sputnik_text_data.find(\"SOCHI (Sputnik) - Russia is a\"):sputnik_text_data.find(\"SOCHI (Sputnik) - Russia is a\")+1831])\n",
    "n = markovify_alltext_string.find(\"Whatsapp\")\n",
    "print(\"\\n\\n\\n\\n :\", markovify_alltext_string[(88985-300):(88985+300)])"
   ]
  },
  {
   "cell_type": "markdown",
   "metadata": {
    "colab_type": "text",
    "id": "HxPvDTmRLgcd"
   },
   "source": [
    "Check to see what version of python and such is running, and then cite all those sources you used in your paper. "
   ]
  },
  {
   "cell_type": "code",
   "execution_count": 1,
   "metadata": {
    "colab": {
     "base_uri": "https://localhost:8080/",
     "height": 33
    },
    "colab_type": "code",
    "executionInfo": {
     "elapsed": 449,
     "status": "ok",
     "timestamp": 1591275981449,
     "user": {
      "displayName": "Barney Ales",
      "photoUrl": "https://lh3.googleusercontent.com/a-/AOh14Gg86EIDEUXFuwIBLZfymbGYfGk1mnezArvKefKW=s64",
      "userId": "06512472277656029571"
     },
     "user_tz": 240
    },
    "id": "tGFl4MWq-Lqn",
    "outputId": "c711cb62-81b2-4cac-90b2-980e0ccefffd"
   },
   "outputs": [
    {
     "name": "stdout",
     "output_type": "stream",
     "text": [
      "3.6.9\n"
     ]
    }
   ],
   "source": [
    "from platform import python_version\n",
    "\n",
    "print(python_version())\n",
    "#Note to self: Write a module that returns all sources "
   ]
  },
  {
   "cell_type": "markdown",
   "metadata": {
    "colab_type": "text",
    "id": "gfWGwaG6cYRD"
   },
   "source": [
    "# License Information\n",
    "MIT License\n",
    "\n",
    "Copyright (c) 2020 Barney Ales\n",
    "\n",
    "Permission is hereby granted, free of charge, to any person obtaining a copy\n",
    "of this software and associated documentation files (the \"Software\"), to deal\n",
    "in the Software without restriction, including without limitation the rights\n",
    "to use, copy, modify, merge, publish, distribute, sublicense, and/or sell\n",
    "copies of the Software, and to permit persons to whom the Software is\n",
    "furnished to do so, subject to the following conditions:\n",
    "\n",
    "The above copyright notice and this permission notice shall be included in all\n",
    "copies or substantial portions of the Software.\n",
    "\n",
    "THE SOFTWARE IS PROVIDED \"AS IS\", WITHOUT WARRANTY OF ANY KIND, EXPRESS OR\n",
    "IMPLIED, INCLUDING BUT NOT LIMITED TO THE WARRANTIES OF MERCHANTABILITY,\n",
    "FITNESS FOR A PARTICULAR PURPOSE AND NONINFRINGEMENT. IN NO EVENT SHALL THE\n",
    "AUTHORS OR COPYRIGHT HOLDERS BE LIABLE FOR ANY CLAIM, DAMAGES OR OTHER\n",
    "LIABILITY, WHETHER IN AN ACTION OF CONTRACT, TORT OR OTHERWISE, ARISING FROM,\n",
    "OUT OF OR IN CONNECTION WITH THE SOFTWARE OR THE USE OR OTHER DEALINGS IN THE\n",
    "SOFTWARE."
   ]
  },
  {
   "cell_type": "code",
   "execution_count": 0,
   "metadata": {
    "colab": {},
    "colab_type": "code",
    "id": "rYz_lhaqcae7"
   },
   "outputs": [],
   "source": []
  }
 ],
 "metadata": {
  "colab": {
   "authorship_tag": "ABX9TyOGTswVoDUMFLU1rsbgfA9/",
   "collapsed_sections": [],
   "mount_file_id": "18hzEK5spJtP0jJRzWCbhl1Bt-4zLggfD",
   "name": "Thesis_Analysis-ALES.ipynb",
   "provenance": [
    {
     "file_id": "1r-jRSDv6fob7_h0Xkv-Iy--ksmZnsovs",
     "timestamp": 1590867532306
    }
   ],
   "toc_visible": true
  },
  "kernelspec": {
   "display_name": "Python 3",
   "language": "python",
   "name": "python3"
  },
  "language_info": {
   "codemirror_mode": {
    "name": "ipython",
    "version": 3
   },
   "file_extension": ".py",
   "mimetype": "text/x-python",
   "name": "python",
   "nbconvert_exporter": "python",
   "pygments_lexer": "ipython3",
   "version": "3.7.6"
  }
 },
 "nbformat": 4,
 "nbformat_minor": 1
}
